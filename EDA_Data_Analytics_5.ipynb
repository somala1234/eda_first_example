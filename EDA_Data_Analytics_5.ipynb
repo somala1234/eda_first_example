{
 "cells": [
  {
   "cell_type": "code",
   "execution_count": null,
   "id": "bd5bb0cd-f8e1-4877-ab0e-93bed92c52e7",
   "metadata": {},
   "outputs": [],
   "source": [
    "##############Task-1#############\n",
    "- Take a fresh notebook\n",
    "- Read the visa dataset\n",
    "- Create case-status frequency table\n",
    "- Save that in your laptop\n",
    "\n",
    "- Take another notebook\n",
    "- Perform the bar plot on case_status dataframe\n",
    "##############Task-2#############\n",
    "- Take a Fresh notebook\n",
    "- Read the visa dataset\n",
    "- Create case_status frequency table\n",
    "- Perform the bar Plot on case_status dataframe"
   ]
  },
  {
   "cell_type": "code",
   "execution_count": null,
   "id": "edf17d3f-678b-4725-b92b-bc47ec50aba9",
   "metadata": {},
   "outputs": [],
   "source": [
    "##############Task-1#############\n",
    "- Take a fresh notebook\n",
    "- Read the visa dataset\n",
    "- Create case-status frequency table\n",
    "- Save that in your laptop"
   ]
  },
  {
   "cell_type": "code",
   "execution_count": 1,
   "id": "16008529-cf99-43ae-a095-d93c9047668d",
   "metadata": {},
   "outputs": [],
   "source": [
    "import pandas as pd\n",
    "import numpy as np\n",
    "import matplotlib.pyplot as plt\n",
    "import seaborn as sn"
   ]
  },
  {
   "cell_type": "code",
   "execution_count": 2,
   "id": "0505ddee-6115-4497-9e89-ee36cf80deda",
   "metadata": {},
   "outputs": [
    {
     "data": {
      "text/html": [
       "<div>\n",
       "<style scoped>\n",
       "    .dataframe tbody tr th:only-of-type {\n",
       "        vertical-align: middle;\n",
       "    }\n",
       "\n",
       "    .dataframe tbody tr th {\n",
       "        vertical-align: top;\n",
       "    }\n",
       "\n",
       "    .dataframe thead th {\n",
       "        text-align: right;\n",
       "    }\n",
       "</style>\n",
       "<table border=\"1\" class=\"dataframe\">\n",
       "  <thead>\n",
       "    <tr style=\"text-align: right;\">\n",
       "      <th></th>\n",
       "      <th>case_id</th>\n",
       "      <th>continent</th>\n",
       "      <th>education_of_employee</th>\n",
       "      <th>has_job_experience</th>\n",
       "      <th>requires_job_training</th>\n",
       "      <th>no_of_employees</th>\n",
       "      <th>yr_of_estab</th>\n",
       "      <th>region_of_employment</th>\n",
       "      <th>prevailing_wage</th>\n",
       "      <th>unit_of_wage</th>\n",
       "      <th>full_time_position</th>\n",
       "      <th>case_status</th>\n",
       "    </tr>\n",
       "  </thead>\n",
       "  <tbody>\n",
       "    <tr>\n",
       "      <th>0</th>\n",
       "      <td>EZYV01</td>\n",
       "      <td>Asia</td>\n",
       "      <td>High School</td>\n",
       "      <td>N</td>\n",
       "      <td>N</td>\n",
       "      <td>14513</td>\n",
       "      <td>2007</td>\n",
       "      <td>West</td>\n",
       "      <td>592.2029</td>\n",
       "      <td>Hour</td>\n",
       "      <td>Y</td>\n",
       "      <td>Denied</td>\n",
       "    </tr>\n",
       "    <tr>\n",
       "      <th>1</th>\n",
       "      <td>EZYV02</td>\n",
       "      <td>Asia</td>\n",
       "      <td>Master's</td>\n",
       "      <td>Y</td>\n",
       "      <td>N</td>\n",
       "      <td>2412</td>\n",
       "      <td>2002</td>\n",
       "      <td>Northeast</td>\n",
       "      <td>83425.6500</td>\n",
       "      <td>Year</td>\n",
       "      <td>Y</td>\n",
       "      <td>Certified</td>\n",
       "    </tr>\n",
       "    <tr>\n",
       "      <th>2</th>\n",
       "      <td>EZYV03</td>\n",
       "      <td>Asia</td>\n",
       "      <td>Bachelor's</td>\n",
       "      <td>N</td>\n",
       "      <td>Y</td>\n",
       "      <td>44444</td>\n",
       "      <td>2008</td>\n",
       "      <td>West</td>\n",
       "      <td>122996.8600</td>\n",
       "      <td>Year</td>\n",
       "      <td>Y</td>\n",
       "      <td>Denied</td>\n",
       "    </tr>\n",
       "    <tr>\n",
       "      <th>3</th>\n",
       "      <td>EZYV04</td>\n",
       "      <td>Asia</td>\n",
       "      <td>Bachelor's</td>\n",
       "      <td>N</td>\n",
       "      <td>N</td>\n",
       "      <td>98</td>\n",
       "      <td>1897</td>\n",
       "      <td>West</td>\n",
       "      <td>83434.0300</td>\n",
       "      <td>Year</td>\n",
       "      <td>Y</td>\n",
       "      <td>Denied</td>\n",
       "    </tr>\n",
       "    <tr>\n",
       "      <th>4</th>\n",
       "      <td>EZYV05</td>\n",
       "      <td>Africa</td>\n",
       "      <td>Master's</td>\n",
       "      <td>Y</td>\n",
       "      <td>N</td>\n",
       "      <td>1082</td>\n",
       "      <td>2005</td>\n",
       "      <td>South</td>\n",
       "      <td>149907.3900</td>\n",
       "      <td>Year</td>\n",
       "      <td>Y</td>\n",
       "      <td>Certified</td>\n",
       "    </tr>\n",
       "    <tr>\n",
       "      <th>...</th>\n",
       "      <td>...</td>\n",
       "      <td>...</td>\n",
       "      <td>...</td>\n",
       "      <td>...</td>\n",
       "      <td>...</td>\n",
       "      <td>...</td>\n",
       "      <td>...</td>\n",
       "      <td>...</td>\n",
       "      <td>...</td>\n",
       "      <td>...</td>\n",
       "      <td>...</td>\n",
       "      <td>...</td>\n",
       "    </tr>\n",
       "    <tr>\n",
       "      <th>25475</th>\n",
       "      <td>EZYV25476</td>\n",
       "      <td>Asia</td>\n",
       "      <td>Bachelor's</td>\n",
       "      <td>Y</td>\n",
       "      <td>Y</td>\n",
       "      <td>2601</td>\n",
       "      <td>2008</td>\n",
       "      <td>South</td>\n",
       "      <td>77092.5700</td>\n",
       "      <td>Year</td>\n",
       "      <td>Y</td>\n",
       "      <td>Certified</td>\n",
       "    </tr>\n",
       "    <tr>\n",
       "      <th>25476</th>\n",
       "      <td>EZYV25477</td>\n",
       "      <td>Asia</td>\n",
       "      <td>High School</td>\n",
       "      <td>Y</td>\n",
       "      <td>N</td>\n",
       "      <td>3274</td>\n",
       "      <td>2006</td>\n",
       "      <td>Northeast</td>\n",
       "      <td>279174.7900</td>\n",
       "      <td>Year</td>\n",
       "      <td>Y</td>\n",
       "      <td>Certified</td>\n",
       "    </tr>\n",
       "    <tr>\n",
       "      <th>25477</th>\n",
       "      <td>EZYV25478</td>\n",
       "      <td>Asia</td>\n",
       "      <td>Master's</td>\n",
       "      <td>Y</td>\n",
       "      <td>N</td>\n",
       "      <td>1121</td>\n",
       "      <td>1910</td>\n",
       "      <td>South</td>\n",
       "      <td>146298.8500</td>\n",
       "      <td>Year</td>\n",
       "      <td>N</td>\n",
       "      <td>Certified</td>\n",
       "    </tr>\n",
       "    <tr>\n",
       "      <th>25478</th>\n",
       "      <td>EZYV25479</td>\n",
       "      <td>Asia</td>\n",
       "      <td>Master's</td>\n",
       "      <td>Y</td>\n",
       "      <td>Y</td>\n",
       "      <td>1918</td>\n",
       "      <td>1887</td>\n",
       "      <td>West</td>\n",
       "      <td>86154.7700</td>\n",
       "      <td>Year</td>\n",
       "      <td>Y</td>\n",
       "      <td>Certified</td>\n",
       "    </tr>\n",
       "    <tr>\n",
       "      <th>25479</th>\n",
       "      <td>EZYV25480</td>\n",
       "      <td>Asia</td>\n",
       "      <td>Bachelor's</td>\n",
       "      <td>Y</td>\n",
       "      <td>N</td>\n",
       "      <td>3195</td>\n",
       "      <td>1960</td>\n",
       "      <td>Midwest</td>\n",
       "      <td>70876.9100</td>\n",
       "      <td>Year</td>\n",
       "      <td>Y</td>\n",
       "      <td>Certified</td>\n",
       "    </tr>\n",
       "  </tbody>\n",
       "</table>\n",
       "<p>25480 rows × 12 columns</p>\n",
       "</div>"
      ],
      "text/plain": [
       "         case_id continent education_of_employee has_job_experience  \\\n",
       "0         EZYV01      Asia           High School                  N   \n",
       "1         EZYV02      Asia              Master's                  Y   \n",
       "2         EZYV03      Asia            Bachelor's                  N   \n",
       "3         EZYV04      Asia            Bachelor's                  N   \n",
       "4         EZYV05    Africa              Master's                  Y   \n",
       "...          ...       ...                   ...                ...   \n",
       "25475  EZYV25476      Asia            Bachelor's                  Y   \n",
       "25476  EZYV25477      Asia           High School                  Y   \n",
       "25477  EZYV25478      Asia              Master's                  Y   \n",
       "25478  EZYV25479      Asia              Master's                  Y   \n",
       "25479  EZYV25480      Asia            Bachelor's                  Y   \n",
       "\n",
       "      requires_job_training  no_of_employees  yr_of_estab  \\\n",
       "0                         N            14513         2007   \n",
       "1                         N             2412         2002   \n",
       "2                         Y            44444         2008   \n",
       "3                         N               98         1897   \n",
       "4                         N             1082         2005   \n",
       "...                     ...              ...          ...   \n",
       "25475                     Y             2601         2008   \n",
       "25476                     N             3274         2006   \n",
       "25477                     N             1121         1910   \n",
       "25478                     Y             1918         1887   \n",
       "25479                     N             3195         1960   \n",
       "\n",
       "      region_of_employment  prevailing_wage unit_of_wage full_time_position  \\\n",
       "0                     West         592.2029         Hour                  Y   \n",
       "1                Northeast       83425.6500         Year                  Y   \n",
       "2                     West      122996.8600         Year                  Y   \n",
       "3                     West       83434.0300         Year                  Y   \n",
       "4                    South      149907.3900         Year                  Y   \n",
       "...                    ...              ...          ...                ...   \n",
       "25475                South       77092.5700         Year                  Y   \n",
       "25476            Northeast      279174.7900         Year                  Y   \n",
       "25477                South      146298.8500         Year                  N   \n",
       "25478                 West       86154.7700         Year                  Y   \n",
       "25479              Midwest       70876.9100         Year                  Y   \n",
       "\n",
       "      case_status  \n",
       "0          Denied  \n",
       "1       Certified  \n",
       "2          Denied  \n",
       "3          Denied  \n",
       "4       Certified  \n",
       "...           ...  \n",
       "25475   Certified  \n",
       "25476   Certified  \n",
       "25477   Certified  \n",
       "25478   Certified  \n",
       "25479   Certified  \n",
       "\n",
       "[25480 rows x 12 columns]"
      ]
     },
     "execution_count": 2,
     "metadata": {},
     "output_type": "execute_result"
    }
   ],
   "source": [
    "path = r'C:\\Users\\nagal\\OneDrive\\Documents\\NareshIT\\EDA\\Visadataset.csv'\n",
    "visa_dataset_df=pd.read_csv(path)\n",
    "visa_dataset_df"
   ]
  },
  {
   "cell_type": "code",
   "execution_count": 13,
   "id": "1dfd96b2-dae9-42fb-907a-1ebad5eae555",
   "metadata": {},
   "outputs": [
    {
     "data": {
      "text/html": [
       "<div>\n",
       "<style scoped>\n",
       "    .dataframe tbody tr th:only-of-type {\n",
       "        vertical-align: middle;\n",
       "    }\n",
       "\n",
       "    .dataframe tbody tr th {\n",
       "        vertical-align: top;\n",
       "    }\n",
       "\n",
       "    .dataframe thead th {\n",
       "        text-align: right;\n",
       "    }\n",
       "</style>\n",
       "<table border=\"1\" class=\"dataframe\">\n",
       "  <thead>\n",
       "    <tr style=\"text-align: right;\">\n",
       "      <th></th>\n",
       "      <th>case_id</th>\n",
       "      <th>continent</th>\n",
       "      <th>education_of_employee</th>\n",
       "      <th>has_job_experience</th>\n",
       "      <th>requires_job_training</th>\n",
       "      <th>no_of_employees</th>\n",
       "      <th>yr_of_estab</th>\n",
       "      <th>region_of_employment</th>\n",
       "      <th>prevailing_wage</th>\n",
       "      <th>unit_of_wage</th>\n",
       "      <th>full_time_position</th>\n",
       "      <th>case_status</th>\n",
       "    </tr>\n",
       "  </thead>\n",
       "  <tbody>\n",
       "    <tr>\n",
       "      <th>0</th>\n",
       "      <td>EZYV01</td>\n",
       "      <td>Asia</td>\n",
       "      <td>High School</td>\n",
       "      <td>N</td>\n",
       "      <td>N</td>\n",
       "      <td>14513</td>\n",
       "      <td>2007</td>\n",
       "      <td>West</td>\n",
       "      <td>592.2029</td>\n",
       "      <td>Hour</td>\n",
       "      <td>Y</td>\n",
       "      <td>Denied</td>\n",
       "    </tr>\n",
       "    <tr>\n",
       "      <th>1</th>\n",
       "      <td>EZYV02</td>\n",
       "      <td>Asia</td>\n",
       "      <td>Master's</td>\n",
       "      <td>Y</td>\n",
       "      <td>N</td>\n",
       "      <td>2412</td>\n",
       "      <td>2002</td>\n",
       "      <td>Northeast</td>\n",
       "      <td>83425.6500</td>\n",
       "      <td>Year</td>\n",
       "      <td>Y</td>\n",
       "      <td>Certified</td>\n",
       "    </tr>\n",
       "    <tr>\n",
       "      <th>2</th>\n",
       "      <td>EZYV03</td>\n",
       "      <td>Asia</td>\n",
       "      <td>Bachelor's</td>\n",
       "      <td>N</td>\n",
       "      <td>Y</td>\n",
       "      <td>44444</td>\n",
       "      <td>2008</td>\n",
       "      <td>West</td>\n",
       "      <td>122996.8600</td>\n",
       "      <td>Year</td>\n",
       "      <td>Y</td>\n",
       "      <td>Denied</td>\n",
       "    </tr>\n",
       "    <tr>\n",
       "      <th>3</th>\n",
       "      <td>EZYV04</td>\n",
       "      <td>Asia</td>\n",
       "      <td>Bachelor's</td>\n",
       "      <td>N</td>\n",
       "      <td>N</td>\n",
       "      <td>98</td>\n",
       "      <td>1897</td>\n",
       "      <td>West</td>\n",
       "      <td>83434.0300</td>\n",
       "      <td>Year</td>\n",
       "      <td>Y</td>\n",
       "      <td>Denied</td>\n",
       "    </tr>\n",
       "    <tr>\n",
       "      <th>4</th>\n",
       "      <td>EZYV05</td>\n",
       "      <td>Africa</td>\n",
       "      <td>Master's</td>\n",
       "      <td>Y</td>\n",
       "      <td>N</td>\n",
       "      <td>1082</td>\n",
       "      <td>2005</td>\n",
       "      <td>South</td>\n",
       "      <td>149907.3900</td>\n",
       "      <td>Year</td>\n",
       "      <td>Y</td>\n",
       "      <td>Certified</td>\n",
       "    </tr>\n",
       "  </tbody>\n",
       "</table>\n",
       "</div>"
      ],
      "text/plain": [
       "  case_id continent education_of_employee has_job_experience  \\\n",
       "0  EZYV01      Asia           High School                  N   \n",
       "1  EZYV02      Asia              Master's                  Y   \n",
       "2  EZYV03      Asia            Bachelor's                  N   \n",
       "3  EZYV04      Asia            Bachelor's                  N   \n",
       "4  EZYV05    Africa              Master's                  Y   \n",
       "\n",
       "  requires_job_training  no_of_employees  yr_of_estab region_of_employment  \\\n",
       "0                     N            14513         2007                 West   \n",
       "1                     N             2412         2002            Northeast   \n",
       "2                     Y            44444         2008                 West   \n",
       "3                     N               98         1897                 West   \n",
       "4                     N             1082         2005                South   \n",
       "\n",
       "   prevailing_wage unit_of_wage full_time_position case_status  \n",
       "0         592.2029         Hour                  Y      Denied  \n",
       "1       83425.6500         Year                  Y   Certified  \n",
       "2      122996.8600         Year                  Y      Denied  \n",
       "3       83434.0300         Year                  Y      Denied  \n",
       "4      149907.3900         Year                  Y   Certified  "
      ]
     },
     "execution_count": 13,
     "metadata": {},
     "output_type": "execute_result"
    }
   ],
   "source": [
    "visa_dataset_df.head()\n",
    "#types=dict(visa_dataset_df.types)"
   ]
  },
  {
   "cell_type": "code",
   "execution_count": 16,
   "id": "0d315b3c-ccb9-4c9d-803c-a2c0ba0ff2df",
   "metadata": {},
   "outputs": [
    {
     "data": {
      "text/plain": [
       "{'case_id': dtype('O'),\n",
       " 'continent': dtype('O'),\n",
       " 'education_of_employee': dtype('O'),\n",
       " 'has_job_experience': dtype('O'),\n",
       " 'requires_job_training': dtype('O'),\n",
       " 'no_of_employees': dtype('int64'),\n",
       " 'yr_of_estab': dtype('int64'),\n",
       " 'region_of_employment': dtype('O'),\n",
       " 'prevailing_wage': dtype('float64'),\n",
       " 'unit_of_wage': dtype('O'),\n",
       " 'full_time_position': dtype('O'),\n",
       " 'case_status': dtype('O')}"
      ]
     },
     "execution_count": 16,
     "metadata": {},
     "output_type": "execute_result"
    }
   ],
   "source": [
    "types = dict(visa_dataset_df.dtypes)\n",
    "types"
   ]
  },
  {
   "cell_type": "code",
   "execution_count": 17,
   "id": "cb9def45-01c8-48d2-82d4-bfccbb570031",
   "metadata": {},
   "outputs": [
    {
     "data": {
      "text/plain": [
       "array(['Denied', 'Certified'], dtype=object)"
      ]
     },
     "execution_count": 17,
     "metadata": {},
     "output_type": "execute_result"
    }
   ],
   "source": [
    "case_status_list = visa_dataset_df['case_status'].unique()\n",
    "case_status_list"
   ]
  },
  {
   "cell_type": "code",
   "execution_count": 22,
   "id": "a6897ad2-763c-4a10-a0c1-d1b1c16dfc79",
   "metadata": {},
   "outputs": [],
   "source": [
    "case_status_count_list=[]\n",
    "for i in visa_dataset_df['case_status'].unique():\n",
    "    con=visa_dataset_df['case_status']==i\n",
    "    count=len(visa_dataset_df[con])\n",
    "    case_status_count_list.append(count)\n",
    "\n",
    "cols = ['case_status','case_status_count']\n",
    "data=zip(case_status_list, case_status_count_list)\n",
    "case_status_df = pd.DataFrame(data, columns=cols)\n",
    "case_status_df.to_csv(\"case_status.csv\", index=False)"
   ]
  },
  {
   "cell_type": "code",
   "execution_count": 23,
   "id": "73e74f12-b4fe-42c0-bcdb-dd14685bcc3e",
   "metadata": {},
   "outputs": [
    {
     "data": {
      "image/png": "[encoded data removed]",
      "text/plain": [
       "<Figure size 640x480 with 1 Axes>"
      ]
     },
     "metadata": {},
     "output_type": "display_data"
    }
   ],
   "source": [
    "plt.bar('case_status','case_status_count',data=case_status_df)\n",
    "plt.title('Case status Bar chart')\n",
    "plt.xlabel('Case status')\n",
    "plt.ylabel('Case status count')\n",
    "plt.savefig('case_status_bar_chat.jpg')\n",
    "plt.show()"
   ]
  },
  {
   "cell_type": "code",
   "execution_count": null,
   "id": "212ae509-a3e3-4c32-9f71-680abc2da1c9",
   "metadata": {},
   "outputs": [],
   "source": [
    "***** Barchart using Seaborn*******\n",
    "\n",
    "- We can plot bar chart using with many packages.\n",
    "- One package is matplotlib\n",
    "- Another package is seaborn\n",
    "   --- In a matplotlib the method is **** plt.bar******\n",
    "   --- In seaborn , the method is *****countplot******\n",
    "\n",
    "-- In matplotlib,\n",
    "        - we will take the raw data \n",
    "        - We will create frequency table, ie Dataframe.\n",
    "        - We will pass the column1, column2 and data frame name\n",
    "-- In seaborn\n",
    "        - It takes direct raw data\n",
    "        - We will provide direct column name\n",
    "        - We will provide main data frame name\n",
    "        - "
   ]
  },
  {
   "cell_type": "code",
   "execution_count": 8,
   "id": "cc26d9d3-67fb-4b5b-be2c-b3fef919bd43",
   "metadata": {},
   "outputs": [
    {
     "data": {
      "image/png": "[encoded data removed]",
      "text/plain": [
       "<Figure size 800x500 with 1 Axes>"
      ]
     },
     "metadata": {},
     "output_type": "display_data"
    }
   ],
   "source": [
    "import seaborn as sns\n",
    "import matplotlib.pyplot as plt\n",
    "\n",
    "plt.figure(figsize=(8,5))  # X-axis:8, Y-axis:5\n",
    "#order_continents=['Asia', 'Europe', 'North America', 'South America','Africa','Oceania']\n",
    "order_continents=visa_dataset_df['continent'].value_counts().keys()\n",
    "sns.countplot(data=visa_dataset_df, \n",
    "                x='continent',\n",
    "             order=order_continents)\n",
    "plt.title('Bar chart')\n",
    "plt.savefig('Continent_bar_chart_using_seaborn.jpg')\n",
    "plt.show()"
   ]
  },
  {
   "cell_type": "code",
   "execution_count": 9,
   "id": "a91569ae-b49c-4be8-bf41-95aeac74c752",
   "metadata": {},
   "outputs": [
    {
     "data": {
      "text/plain": [
       "continent\n",
       "Asia             16861\n",
       "Europe            3732\n",
       "North America     3292\n",
       "South America      852\n",
       "Africa             551\n",
       "Oceania            192\n",
       "Name: count, dtype: int64"
      ]
     },
     "execution_count": 9,
     "metadata": {},
     "output_type": "execute_result"
    }
   ],
   "source": [
    "visa_dataset_df['continent'].value_counts()"
   ]
  },
  {
   "cell_type": "code",
   "execution_count": null,
   "id": "6b98d3ab-59d1-4a37-9fa0-35ab058c2d49",
   "metadata": {},
   "outputs": [],
   "source": [
    "# task-3#\n",
    "\n",
    "******  Value counts versus keys   *********\n",
    "\n",
    "-- Start with seaborn\n",
    "    - Then we require column names\n",
    "    - and main data frame\n",
    "\n",
    "\n",
    "\n"
   ]
  },
  {
   "cell_type": "code",
   "execution_count": null,
   "id": "c990def3-9f80-47bb-a83d-bec4156f448a",
   "metadata": {},
   "outputs": [],
   "source": [
    "# How to create a folder?\n",
    "# Where you want to create folder?\n",
    "# Where is the python file === extra folder\n",
    "\n",
    "******os.mkdirs()*****\n",
    "--  makedirs --> Create a leaf directory\n",
    "--  means it will take current working directory and creates one extra folder\n",
    "--  Here my python in **EDA** folder \n",
    "--  Now I want to create a new folder  ** graphs_seaborn***\n",
    "--  which is one step ahead of EDA folder  : EDA/graphs_seaborn\n",
    "--  Pass the full path inside the makedirs()\n",
    "-- 'C:\\\\Users\\\\nagal\\\\OneDrive\\\\Documents\\\\NareshIT\\\\EDA\\\\graphs_seaborn'\n"
   ]
  },
  {
   "cell_type": "code",
   "execution_count": 20,
   "id": "e60ae152-479f-495e-898d-b0f0987ed21d",
   "metadata": {},
   "outputs": [],
   "source": [
    "\n",
    "import os\n",
    "parent_dir = os.getcwd()\n",
    "directory = \"graphs_seaborn1\"\n",
    "path = os.getcwd() + \"\\\\\" + directory\n",
    "os.makedirs(path)\n",
    "\n",
    "\n"
   ]
  },
  {
   "cell_type": "code",
   "execution_count": 18,
   "id": "94bdc426-9439-4f62-81ee-3b6639c78365",
   "metadata": {},
   "outputs": [
    {
     "data": {
      "text/plain": [
       "'C:\\\\Users\\\\nagal\\\\OneDrive\\\\Documents\\\\NareshIT\\\\EDA'"
      ]
     },
     "execution_count": 18,
     "metadata": {},
     "output_type": "execute_result"
    }
   ],
   "source": [
    "parent_dir = os.getcwd()\n",
    "parent_dir"
   ]
  },
  {
   "cell_type": "code",
   "execution_count": 4,
   "id": "c79f12d8-4516-48f0-ad43-661b599cfd32",
   "metadata": {},
   "outputs": [
    {
     "data": {
      "text/plain": [
       "'C:\\\\Users\\\\nagal\\\\OneDrive\\\\Documents\\\\NareshIT\\\\EDA'"
      ]
     },
     "execution_count": 4,
     "metadata": {},
     "output_type": "execute_result"
    }
   ],
   "source": [
    "import os\n",
    "directory = 'graphs_seaborn1'\n",
    "dir_path=os.getcwd()\n",
    "path=os.path.join(dir_path, directory)\n",
    "mode = 0o666\n",
    "os.mkdir(path, mode)\n",
    "directory = os.getcwd()\n",
    "directory"
   ]
  },
  {
   "cell_type": "code",
   "execution_count": 3,
   "id": "605c2339-e7c1-428e-97e1-97301c1a2328",
   "metadata": {},
   "outputs": [
    {
     "name": "stdout",
     "output_type": "stream",
     "text": [
      "Index(['case_id', 'continent', 'education_of_employee', 'has_job_experience',\n",
      "       'requires_job_training', 'region_of_employment', 'unit_of_wage',\n",
      "       'full_time_position', 'case_status'],\n",
      "      dtype='object')\n",
      "order_continents ::  Index(['EZYV01', 'EZYV16995', 'EZYV16993', 'EZYV16992', 'EZYV16991',\n",
      "       'EZYV16990', 'EZYV16989', 'EZYV16988', 'EZYV16987', 'EZYV16986',\n",
      "       ...\n",
      "       'EZYV8497', 'EZYV8496', 'EZYV8495', 'EZYV8494', 'EZYV8493', 'EZYV8492',\n",
      "       'EZYV8491', 'EZYV8490', 'EZYV8489', 'EZYV25480'],\n",
      "      dtype='object', name='case_id', length=25480)\n",
      "Plot created\n"
     ]
    },
    {
     "ename": "TypeError",
     "evalue": "can only concatenate str (not \"set\") to str",
     "output_type": "error",
     "traceback": [
      "\u001b[1;31m---------------------------------------------------------------------------\u001b[0m",
      "\u001b[1;31mTypeError\u001b[0m                                 Traceback (most recent call last)",
      "Cell \u001b[1;32mIn[3], line 33\u001b[0m\n\u001b[0;32m     31\u001b[0m make_dir(new_dir)\n\u001b[0;32m     32\u001b[0m \u001b[38;5;28;01mfor\u001b[39;00m i \u001b[38;5;129;01min\u001b[39;00m cat_columns:\n\u001b[1;32m---> 33\u001b[0m     seaborn_chart(i, new_dir)\n",
      "Cell \u001b[1;32mIn[3], line 23\u001b[0m, in \u001b[0;36mseaborn_chart\u001b[1;34m(i, directory)\u001b[0m\n\u001b[0;32m     21\u001b[0m \u001b[38;5;28mprint\u001b[39m(\u001b[38;5;124m'\u001b[39m\u001b[38;5;124mPlot created\u001b[39m\u001b[38;5;124m'\u001b[39m)\n\u001b[0;32m     22\u001b[0m plt\u001b[38;5;241m.\u001b[39mtitle(\u001b[38;5;124m'\u001b[39m\u001b[38;5;124mBar chart\u001b[39m\u001b[38;5;124m'\u001b[39m)\n\u001b[1;32m---> 23\u001b[0m plt\u001b[38;5;241m.\u001b[39msavefig(\u001b[38;5;124mf\u001b[39m\u001b[38;5;124m'\u001b[39m\u001b[38;5;132;01m{\u001b[39;00mpath\u001b[38;5;132;01m}\u001b[39;00m\u001b[38;5;124m'\u001b[39m\u001b[38;5;241m+\u001b[39m \u001b[38;5;124m'\u001b[39m\u001b[38;5;130;01m\\\\\u001b[39;00m\u001b[38;5;124m'\u001b[39m\u001b[38;5;241m+\u001b[39m{i}\u001b[38;5;241m+\u001b[39m\u001b[38;5;124m'\u001b[39m\u001b[38;5;124m_bar_chart_using_seaborn.jpg\u001b[39m\u001b[38;5;124m'\u001b[39m)\n\u001b[0;32m     24\u001b[0m plt\u001b[38;5;241m.\u001b[39mshow()\n",
      "\u001b[1;31mTypeError\u001b[0m: can only concatenate str (not \"set\") to str"
     ]
    },
    {
     "data": {
      "image/png": "[encoded data removed]",
      "text/plain": [
       "<Figure size 800x500 with 1 Axes>"
      ]
     },
     "metadata": {},
     "output_type": "display_data"
    }
   ],
   "source": [
    "import seaborn as sns\n",
    "import matplotlib.pyplot as plt\n",
    "import os\n",
    "\n",
    "def make_dir(dir):\n",
    "    #directory = 'graphs_seaborn1'\n",
    "    dir_path=os.getcwd()\n",
    "    path=os.path.join(dir_path, dir)\n",
    "    mode = 0o666\n",
    "    os.mkdir(path, mode)\n",
    "\n",
    "def seaborn_chart(i, directory):\n",
    "    dir_path=os.getcwd()\n",
    "    path=os.path.join(dir_path, directory)\n",
    "    plt.figure(figsize=(8,5))  # X-axis:8, Y-axis:5\n",
    "    order_continents=visa_dataset_df[i].value_counts().keys()\n",
    "    print(f'order_continents ::  {order_continents}')\n",
    "    sns.countplot(data=visa_dataset_df, \n",
    "                    x=i,\n",
    "                 order=order_continents)\n",
    "    print('Plot created')\n",
    "    plt.title('Bar chart')\n",
    "    plt.savefig(f'{path}'+ '\\\\'+{i}+'_bar_chart_using_seaborn.jpg')\n",
    "    plt.show()\n",
    "    \n",
    "cat_columns = visa_dataset_df.select_dtypes(include='object').columns\n",
    "print(cat_columns)\n",
    "#count = int(input('Enter the number'))\n",
    "#new_dir = \"Seaborn\"+str(count+1\n",
    "new_dir='Seaborn4'\n",
    "make_dir(new_dir)\n",
    "for i in cat_columns:\n",
    "    seaborn_chart(i, new_dir)"
   ]
  },
  {
   "cell_type": "code",
   "execution_count": null,
   "id": "be51a2a6-8f45-48e1-983b-9fb70982d823",
   "metadata": {},
   "outputs": [],
   "source": [
    "# How to create a folder??\n",
    "import os\n"
   ]
  },
  {
   "cell_type": "code",
   "execution_count": 8,
   "id": "c2c13d3b-2b7d-4b89-bbab-404704ace03e",
   "metadata": {},
   "outputs": [
    {
     "data": {
      "text/plain": [
       "'Seaborn2'"
      ]
     },
     "execution_count": 8,
     "metadata": {},
     "output_type": "execute_result"
    }
   ],
   "source": [
    "dir_count=1\n",
    "new_dir = \"Seaborn\"+str(dir_count+1)\n",
    "new_dir"
   ]
  },
  {
   "cell_type": "code",
   "execution_count": null,
   "id": "67102281-a63c-4384-becf-53e0800790a0",
   "metadata": {},
   "outputs": [],
   "source": [
    "import seaborn as sns\n",
    "import matplotlib.pyplot as plt\n",
    "\n",
    "plt.figure(figsize=(8,5))  # X-axis:8, Y-axis:5\n",
    "#order_continents=['Asia', 'Europe', 'North America', 'South America','Africa','Oceania']\n",
    "order_continents=visa_dataset_df['case_id'].value_counts().keys()\n",
    "sns.countplot(data=visa_dataset_df, \n",
    "                x='case_id',\n",
    "             order=order_continents)\n",
    "plt.title('Bar chart')\n",
    "plt.savefig('case_id_using_seaborn.jpg')\n",
    "plt.show()"
   ]
  },
  {
   "cell_type": "code",
   "execution_count": null,
   "id": "14d9997b-a05f-4892-89d7-ca0c287b44b6",
   "metadata": {},
   "outputs": [],
   "source": []
  }
 ],
 "metadata": {
  "kernelspec": {
   "display_name": "Python 3 (ipykernel)",
   "language": "python",
   "name": "python3"
  },
  "language_info": {
   "codemirror_mode": {
    "name": "ipython",
    "version": 3
   },
   "file_extension": ".py",
   "mimetype": "text/x-python",
   "name": "python",
   "nbconvert_exporter": "python",
   "pygments_lexer": "ipython3",
   "version": "3.11.7"
  }
 },
 "nbformat": 4,
 "nbformat_minor": 5
}
