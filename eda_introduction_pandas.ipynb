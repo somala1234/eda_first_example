{
 "cells": [
  {
   "cell_type": "code",
   "execution_count": 1,
   "id": "e90f3abe-1614-43a8-9a72-845334c87164",
   "metadata": {},
   "outputs": [
    {
     "ename": "SyntaxError",
     "evalue": "unmatched ')' (3493735362.py, line 2)",
     "output_type": "error",
     "traceback": [
      "\u001b[1;36m  Cell \u001b[1;32mIn[1], line 2\u001b[1;36m\u001b[0m\n\u001b[1;33m    9)sqlite : Connect with database\u001b[0m\n\u001b[1;37m     ^\u001b[0m\n\u001b[1;31mSyntaxError\u001b[0m\u001b[1;31m:\u001b[0m unmatched ')'\n"
     ]
    }
   ],
   "source": [
    "=============Pandas======================\n",
    "1) pandas     :   Data frame or data applications\n",
    "2) numpy      :   Numerical python or math operations\n",
    "3) matplotlib :   For plots graphs\n",
    "4) Seaborn    :   For plots graphs\n",
    "5) Bokhe      :   For plots\n",
    "6) plotly     :   For plots\n",
    "\n",
    "============== Machine learning =========\n",
    "7) Scikit learn(Sklearn) : ML models\n",
    "8) stat                  : statistical models\n",
    "===========Data retrieval from sql scrapping ===============\n",
    "9) sqlite                : Connect with database\n",
    "10)Beautiful soup        : scrap the data from website\n",
    "11) Websocket            : scrap\n",
    "\n",
    "============Deep Learning==================\n",
    "12) Tensorflow          : Google\n",
    "13) Keras               : DL Models\n",
    "14) OpenCV              : Image Operations\n",
    "15)Pillow(PIL)          : Image Operations\n",
    "16) Pytorch             : Facebook\n",
    "17) Pretrained model\n",
    "    VGG16\n",
    "    Mobilenet\n",
    "    RESNET\n",
    "    RCNN\n",
    "    MASKRCNN\n",
    "    FASTERCNN\n",
    "    YOLO\n",
    "==============Natural Language Processing =================\n",
    "18) NLTK         :   Natural Language Process\n",
    "19) Scipy        :   \n",
    "20) Word2vec(How words will convert to vector representation) :\n",
    "21) GolVE        :\n",
    "22) Wordcloud    :\n",
    "\n",
    "\n",
    "=====================Hugging face ======================\n",
    "23) Transformers :   BERT Models  (Bidirectional Encoder Representations from Transformers)\n",
    "\n",
    "=======================Gen AI Models ==================\n",
    "24) Open AI + Microsfot  : GPT(Generative pre-trained transformer)\n",
    "25) Google               : Gemini AI\n",
    "26) Amazon               : Q\n",
    "27) Meta                 : Meta AI\n",
    "28) Apple                :\n",
    "\n",
    "LLAMMA, \n",
    "GEMMA, \n",
    "Dalle-E, \n",
    "T5\n",
    "\n",
    "All are having different packages\n",
    "\n",
    "======================LANGCHAIN ====================\n",
    "29) Langchain framework\n",
    "\n",
    "======================Deployemnts ======================\n",
    "30) Flask\n",
    "31) Streamlt\n",
    "32) Django\n",
    "====================MLops===========================\n",
    "34) Mlflow\n",
    "35) Kubeflow\n",
    "36) Azure Ai services : Azure packages\n",
    "37) GCP               : GCP Packages\n",
    "\n"
   ]
  },
  {
   "cell_type": "code",
   "execution_count": null,
   "id": "7bae269f-fb71-479e-be24-46ac47cd4ae7",
   "metadata": {},
   "outputs": [],
   "source": [
    "**Step-1**\n",
    "** Create a data frame**\n",
    "   --We will create a data frame using list\n",
    "   --We will create a data frame using dictionary\n",
    "    "
   ]
  },
  {
   "cell_type": "code",
   "execution_count": null,
   "id": "3a285aa8-8b72-4447-9ff1-275e6751c99f",
   "metadata": {},
   "outputs": [],
   "source": [
    "import pandas as pd"
   ]
  },
  {
   "cell_type": "code",
   "execution_count": 8,
   "id": "3ab4c8d9-9b34-4d4c-83d8-ecf82747d518",
   "metadata": {},
   "outputs": [
    {
     "ename": "NameError",
     "evalue": "name 'pd' is not defined",
     "output_type": "error",
     "traceback": [
      "\u001b[1;31m---------------------------------------------------------------------------\u001b[0m",
      "\u001b[1;31mNameError\u001b[0m                                 Traceback (most recent call last)",
      "Cell \u001b[1;32mIn[8], line 1\u001b[0m\n\u001b[1;32m----> 1\u001b[0m d1 \u001b[38;5;241m=\u001b[39m pd\u001b[38;5;241m.\u001b[39mDataFrame()\n\u001b[0;32m      2\u001b[0m \u001b[38;5;28mtype\u001b[39m(d1)\n",
      "\u001b[1;31mNameError\u001b[0m: name 'pd' is not defined"
     ]
    }
   ],
   "source": [
    "d1 = pd.DataFrame()\n",
    "type(d1)"
   ]
  },
  {
   "cell_type": "code",
   "execution_count": 7,
   "id": "e7359263-ccc2-44d7-87d1-6b7e6f23bc7e",
   "metadata": {},
   "outputs": [
    {
     "name": "stdout",
     "output_type": "stream",
     "text": [
      "Requirement already satisfied: pandas in c:\\users\\nagal\\anaconda3\\lib\\site-packages (2.1.4)\n",
      "Requirement already satisfied: numpy<2,>=1.23.2 in c:\\users\\nagal\\anaconda3\\lib\\site-packages (from pandas) (1.26.4)\n",
      "Requirement already satisfied: python-dateutil>=2.8.2 in c:\\users\\nagal\\anaconda3\\lib\\site-packages (from pandas) (2.8.2)\n",
      "Requirement already satisfied: pytz>=2020.1 in c:\\users\\nagal\\anaconda3\\lib\\site-packages (from pandas) (2023.3.post1)\n",
      "Requirement already satisfied: tzdata>=2022.1 in c:\\users\\nagal\\anaconda3\\lib\\site-packages (from pandas) (2023.3)\n",
      "Requirement already satisfied: six>=1.5 in c:\\users\\nagal\\anaconda3\\lib\\site-packages (from python-dateutil>=2.8.2->pandas) (1.16.0)\n",
      "Note: you may need to restart the kernel to use updated packages.\n"
     ]
    }
   ],
   "source": [
    "pip install pandas"
   ]
  },
  {
   "cell_type": "code",
   "execution_count": 1,
   "id": "2bc85af1-6bb8-4e35-bc7e-fb365f5f1faa",
   "metadata": {},
   "outputs": [],
   "source": [
    "import pandas as pd"
   ]
  },
  {
   "cell_type": "code",
   "execution_count": 3,
   "id": "c861cb09-874d-42f4-a283-423ab38a9679",
   "metadata": {},
   "outputs": [
    {
     "data": {
      "text/plain": [
       "pandas.core.frame.DataFrame"
      ]
     },
     "execution_count": 3,
     "metadata": {},
     "output_type": "execute_result"
    }
   ],
   "source": [
    "d1=pd.DataFrame()\n",
    "type(d1)"
   ]
  },
  {
   "cell_type": "code",
   "execution_count": null,
   "id": "4cb5b516-78a5-47f0-99f2-607f674a6cb4",
   "metadata": {},
   "outputs": [],
   "source": [
    "***** step-2 Provide the data*****"
   ]
  },
  {
   "cell_type": "code",
   "execution_count": 10,
   "id": "5c8b4840-75c4-4cb3-bf45-1cc510da9fca",
   "metadata": {},
   "outputs": [
    {
     "data": {
      "text/html": [
       "<div>\n",
       "<style scoped>\n",
       "    .dataframe tbody tr th:only-of-type {\n",
       "        vertical-align: middle;\n",
       "    }\n",
       "\n",
       "    .dataframe tbody tr th {\n",
       "        vertical-align: top;\n",
       "    }\n",
       "\n",
       "    .dataframe thead th {\n",
       "        text-align: right;\n",
       "    }\n",
       "</style>\n",
       "<table border=\"1\" class=\"dataframe\">\n",
       "  <thead>\n",
       "    <tr style=\"text-align: right;\">\n",
       "      <th></th>\n",
       "      <th>Name</th>\n",
       "      <th>Age</th>\n",
       "      <th>Place</th>\n",
       "    </tr>\n",
       "  </thead>\n",
       "  <tbody>\n",
       "    <tr>\n",
       "      <th>0</th>\n",
       "      <td>Tarun</td>\n",
       "      <td>20</td>\n",
       "      <td>Hyd</td>\n",
       "    </tr>\n",
       "    <tr>\n",
       "      <th>1</th>\n",
       "      <td>Venkat</td>\n",
       "      <td>35</td>\n",
       "      <td>Blr</td>\n",
       "    </tr>\n",
       "    <tr>\n",
       "      <th>2</th>\n",
       "      <td>Sahasra</td>\n",
       "      <td>12</td>\n",
       "      <td>Chn</td>\n",
       "    </tr>\n",
       "  </tbody>\n",
       "</table>\n",
       "</div>"
      ],
      "text/plain": [
       "      Name  Age Place\n",
       "0    Tarun   20   Hyd\n",
       "1   Venkat   35   Blr\n",
       "2  Sahasra   12   Chn"
      ]
     },
     "execution_count": 10,
     "metadata": {},
     "output_type": "execute_result"
    }
   ],
   "source": [
    "name = ['Tarun', 'Venkat', 'Sahasra']\n",
    "age = [20, 35, 12]\n",
    "place = ['Hyd', 'Blr', 'Chn']\n",
    "data = zip(name, age, place)\n",
    "pd.DataFrame(data, columns=['Name', 'Age', 'Place'])"
   ]
  },
  {
   "cell_type": "code",
   "execution_count": null,
   "id": "4b0937fc-0faf-4aea-81b9-7a57b485df71",
   "metadata": {},
   "outputs": [],
   "source": [
    "***** Step-4 : Providing Index ************"
   ]
  },
  {
   "cell_type": "code",
   "execution_count": 13,
   "id": "3305cc38-83be-4ebc-827d-be8662fb52f6",
   "metadata": {},
   "outputs": [
    {
     "data": {
      "text/html": [
       "<div>\n",
       "<style scoped>\n",
       "    .dataframe tbody tr th:only-of-type {\n",
       "        vertical-align: middle;\n",
       "    }\n",
       "\n",
       "    .dataframe tbody tr th {\n",
       "        vertical-align: top;\n",
       "    }\n",
       "\n",
       "    .dataframe thead th {\n",
       "        text-align: right;\n",
       "    }\n",
       "</style>\n",
       "<table border=\"1\" class=\"dataframe\">\n",
       "  <thead>\n",
       "    <tr style=\"text-align: right;\">\n",
       "      <th></th>\n",
       "      <th>Name</th>\n",
       "      <th>Age</th>\n",
       "      <th>Place</th>\n",
       "    </tr>\n",
       "  </thead>\n",
       "  <tbody>\n",
       "    <tr>\n",
       "      <th>A</th>\n",
       "      <td>Tarun</td>\n",
       "      <td>20</td>\n",
       "      <td>Hyd</td>\n",
       "    </tr>\n",
       "    <tr>\n",
       "      <th>B</th>\n",
       "      <td>Venkat</td>\n",
       "      <td>35</td>\n",
       "      <td>Blr</td>\n",
       "    </tr>\n",
       "    <tr>\n",
       "      <th>C</th>\n",
       "      <td>Sahasra</td>\n",
       "      <td>12</td>\n",
       "      <td>Chn</td>\n",
       "    </tr>\n",
       "  </tbody>\n",
       "</table>\n",
       "</div>"
      ],
      "text/plain": [
       "      Name  Age Place\n",
       "A    Tarun   20   Hyd\n",
       "B   Venkat   35   Blr\n",
       "C  Sahasra   12   Chn"
      ]
     },
     "execution_count": 13,
     "metadata": {},
     "output_type": "execute_result"
    }
   ],
   "source": [
    "####\n",
    "\n",
    "name = ['Tarun', 'Venkat', 'Sahasra']\n",
    "age = [20, 35, 12]\n",
    "place = ['Hyd', 'Blr', 'Chn']\n",
    "data = zip(name, age, place)\n",
    "ix = ['A', 'B', 'C']\n",
    "column=['Name', 'Age', 'Place']\n",
    "pd.DataFrame(data, index=ix, columns=column)"
   ]
  },
  {
   "cell_type": "code",
   "execution_count": 14,
   "id": "2a2b5ee8-3873-44e7-baed-06c2940eaaf9",
   "metadata": {},
   "outputs": [
    {
     "data": {
      "text/html": [
       "<div>\n",
       "<style scoped>\n",
       "    .dataframe tbody tr th:only-of-type {\n",
       "        vertical-align: middle;\n",
       "    }\n",
       "\n",
       "    .dataframe tbody tr th {\n",
       "        vertical-align: top;\n",
       "    }\n",
       "\n",
       "    .dataframe thead th {\n",
       "        text-align: right;\n",
       "    }\n",
       "</style>\n",
       "<table border=\"1\" class=\"dataframe\">\n",
       "  <thead>\n",
       "    <tr style=\"text-align: right;\">\n",
       "      <th></th>\n",
       "      <th>Name</th>\n",
       "      <th>Age</th>\n",
       "    </tr>\n",
       "  </thead>\n",
       "  <tbody>\n",
       "    <tr>\n",
       "      <th>Hyd</th>\n",
       "      <td>Tarun</td>\n",
       "      <td>20</td>\n",
       "    </tr>\n",
       "    <tr>\n",
       "      <th>Blr</th>\n",
       "      <td>Venkat</td>\n",
       "      <td>35</td>\n",
       "    </tr>\n",
       "    <tr>\n",
       "      <th>Chn</th>\n",
       "      <td>Sahasra</td>\n",
       "      <td>12</td>\n",
       "    </tr>\n",
       "  </tbody>\n",
       "</table>\n",
       "</div>"
      ],
      "text/plain": [
       "        Name  Age\n",
       "Hyd    Tarun   20\n",
       "Blr   Venkat   35\n",
       "Chn  Sahasra   12"
      ]
     },
     "execution_count": 14,
     "metadata": {},
     "output_type": "execute_result"
    }
   ],
   "source": [
    "name = ['Tarun', 'Venkat', 'Sahasra']\n",
    "age = [20, 35, 12]\n",
    "city = ['Hyd', 'Blr', 'Chn']\n",
    "data = zip(name, age)\n",
    "column=['Name', 'Age']\n",
    "pd.DataFrame(data, index=city, columns=column)"
   ]
  },
  {
   "cell_type": "code",
   "execution_count": 27,
   "id": "ee13a3d4-58fc-4250-9a0d-9d2dd788fc7b",
   "metadata": {},
   "outputs": [
    {
     "name": "stdout",
     "output_type": "stream",
     "text": [
      "   calories  duration\n",
      "0       420        50\n",
      "1       380        40\n",
      "2       390        45\n",
      "calories    420\n",
      "duration     50\n",
      "Name: 0, dtype: int64\n"
     ]
    }
   ],
   "source": [
    "data = {\n",
    "  \"calories\": [420, 380, 390],\n",
    "  \"duration\": [50, 40, 45]\n",
    "}\n",
    "df = pd.DataFrame(data)\n",
    "print(df)\n",
    "print(df.loc[0])"
   ]
  },
  {
   "cell_type": "code",
   "execution_count": 31,
   "id": "5d47b73d-e92f-4341-bcde-cc6d54d98f56",
   "metadata": {},
   "outputs": [
    {
     "name": "stdout",
     "output_type": "stream",
     "text": [
      "   calories  duration\n",
      "A       420        50\n",
      "B       380        40\n",
      "C       390        45\n"
     ]
    },
    {
     "ename": "ValueError",
     "evalue": "No axis named A for object type DataFrame",
     "output_type": "error",
     "traceback": [
      "\u001b[1;31m---------------------------------------------------------------------------\u001b[0m",
      "\u001b[1;31mKeyError\u001b[0m                                  Traceback (most recent call last)",
      "\u001b[1;32m~\\anaconda3\\Lib\\site-packages\\pandas\\core\\generic.py\u001b[0m in \u001b[0;36m?\u001b[1;34m(cls, axis)\u001b[0m\n\u001b[0;32m    552\u001b[0m             \u001b[1;32mreturn\u001b[0m \u001b[0mcls\u001b[0m\u001b[1;33m.\u001b[0m\u001b[0m_AXIS_TO_AXIS_NUMBER\u001b[0m\u001b[1;33m[\u001b[0m\u001b[0maxis\u001b[0m\u001b[1;33m]\u001b[0m\u001b[1;33m\u001b[0m\u001b[1;33m\u001b[0m\u001b[0m\n\u001b[0;32m    553\u001b[0m         \u001b[1;32mexcept\u001b[0m \u001b[0mKeyError\u001b[0m\u001b[1;33m:\u001b[0m\u001b[1;33m\u001b[0m\u001b[1;33m\u001b[0m\u001b[0m\n\u001b[1;32m--> 554\u001b[1;33m             \u001b[1;32mraise\u001b[0m \u001b[0mValueError\u001b[0m\u001b[1;33m(\u001b[0m\u001b[1;34mf\"No axis named {axis} for object type {cls.__name__}\"\u001b[0m\u001b[1;33m)\u001b[0m\u001b[1;33m\u001b[0m\u001b[1;33m\u001b[0m\u001b[0m\n\u001b[0m",
      "\u001b[1;31mKeyError\u001b[0m: 'A'",
      "\nDuring handling of the above exception, another exception occurred:\n",
      "\u001b[1;31mValueError\u001b[0m                                Traceback (most recent call last)",
      "\u001b[1;32m~\\AppData\\Local\\Temp\\ipykernel_22260\\3038095752.py\u001b[0m in \u001b[0;36m?\u001b[1;34m()\u001b[0m\n\u001b[0;32m      4\u001b[0m }\n\u001b[0;32m      5\u001b[0m \u001b[0mindex1\u001b[0m \u001b[1;33m=\u001b[0m \u001b[1;33m[\u001b[0m\u001b[1;34m'A'\u001b[0m\u001b[1;33m,\u001b[0m \u001b[1;34m'B'\u001b[0m\u001b[1;33m,\u001b[0m \u001b[1;34m'C'\u001b[0m\u001b[1;33m]\u001b[0m\u001b[1;33m\u001b[0m\u001b[1;33m\u001b[0m\u001b[0m\n\u001b[0;32m      6\u001b[0m \u001b[0mdf\u001b[0m \u001b[1;33m=\u001b[0m \u001b[0mpd\u001b[0m\u001b[1;33m.\u001b[0m\u001b[0mDataFrame\u001b[0m\u001b[1;33m(\u001b[0m\u001b[0mdata\u001b[0m\u001b[1;33m,\u001b[0m \u001b[0mindex\u001b[0m\u001b[1;33m=\u001b[0m\u001b[0mindex1\u001b[0m\u001b[1;33m)\u001b[0m\u001b[1;33m\u001b[0m\u001b[1;33m\u001b[0m\u001b[0m\n\u001b[0;32m      7\u001b[0m \u001b[0mprint\u001b[0m\u001b[1;33m(\u001b[0m\u001b[0mdf\u001b[0m\u001b[1;33m)\u001b[0m\u001b[1;33m\u001b[0m\u001b[1;33m\u001b[0m\u001b[0m\n\u001b[1;32m----> 8\u001b[1;33m \u001b[0mprint\u001b[0m\u001b[1;33m(\u001b[0m\u001b[0mdf\u001b[0m\u001b[1;33m.\u001b[0m\u001b[0mloc\u001b[0m\u001b[1;33m(\u001b[0m\u001b[1;34m\"A\"\u001b[0m\u001b[1;33m)\u001b[0m\u001b[1;33m)\u001b[0m\u001b[1;33m\u001b[0m\u001b[1;33m\u001b[0m\u001b[0m\n\u001b[0m",
      "\u001b[1;32m~\\anaconda3\\Lib\\site-packages\\pandas\\core\\indexing.py\u001b[0m in \u001b[0;36m?\u001b[1;34m(self, axis)\u001b[0m\n\u001b[0;32m    718\u001b[0m         \u001b[1;31m# we need to return a copy of ourselves\u001b[0m\u001b[1;33m\u001b[0m\u001b[1;33m\u001b[0m\u001b[0m\n\u001b[0;32m    719\u001b[0m         \u001b[0mnew_self\u001b[0m \u001b[1;33m=\u001b[0m \u001b[0mtype\u001b[0m\u001b[1;33m(\u001b[0m\u001b[0mself\u001b[0m\u001b[1;33m)\u001b[0m\u001b[1;33m(\u001b[0m\u001b[0mself\u001b[0m\u001b[1;33m.\u001b[0m\u001b[0mname\u001b[0m\u001b[1;33m,\u001b[0m \u001b[0mself\u001b[0m\u001b[1;33m.\u001b[0m\u001b[0mobj\u001b[0m\u001b[1;33m)\u001b[0m\u001b[1;33m\u001b[0m\u001b[1;33m\u001b[0m\u001b[0m\n\u001b[0;32m    720\u001b[0m \u001b[1;33m\u001b[0m\u001b[0m\n\u001b[0;32m    721\u001b[0m         \u001b[1;32mif\u001b[0m \u001b[0maxis\u001b[0m \u001b[1;32mis\u001b[0m \u001b[1;32mnot\u001b[0m \u001b[1;32mNone\u001b[0m\u001b[1;33m:\u001b[0m\u001b[1;33m\u001b[0m\u001b[1;33m\u001b[0m\u001b[0m\n\u001b[1;32m--> 722\u001b[1;33m             \u001b[0maxis_int_none\u001b[0m \u001b[1;33m=\u001b[0m \u001b[0mself\u001b[0m\u001b[1;33m.\u001b[0m\u001b[0mobj\u001b[0m\u001b[1;33m.\u001b[0m\u001b[0m_get_axis_number\u001b[0m\u001b[1;33m(\u001b[0m\u001b[0maxis\u001b[0m\u001b[1;33m)\u001b[0m\u001b[1;33m\u001b[0m\u001b[1;33m\u001b[0m\u001b[0m\n\u001b[0m\u001b[0;32m    723\u001b[0m         \u001b[1;32melse\u001b[0m\u001b[1;33m:\u001b[0m\u001b[1;33m\u001b[0m\u001b[1;33m\u001b[0m\u001b[0m\n\u001b[0;32m    724\u001b[0m             \u001b[0maxis_int_none\u001b[0m \u001b[1;33m=\u001b[0m \u001b[0maxis\u001b[0m\u001b[1;33m\u001b[0m\u001b[1;33m\u001b[0m\u001b[0m\n\u001b[0;32m    725\u001b[0m         \u001b[0mnew_self\u001b[0m\u001b[1;33m.\u001b[0m\u001b[0maxis\u001b[0m \u001b[1;33m=\u001b[0m \u001b[0maxis_int_none\u001b[0m\u001b[1;33m\u001b[0m\u001b[1;33m\u001b[0m\u001b[0m\n",
      "\u001b[1;32m~\\anaconda3\\Lib\\site-packages\\pandas\\core\\generic.py\u001b[0m in \u001b[0;36m?\u001b[1;34m(cls, axis)\u001b[0m\n\u001b[0;32m    550\u001b[0m     \u001b[1;32mdef\u001b[0m \u001b[0m_get_axis_number\u001b[0m\u001b[1;33m(\u001b[0m\u001b[0mcls\u001b[0m\u001b[1;33m,\u001b[0m \u001b[0maxis\u001b[0m\u001b[1;33m:\u001b[0m \u001b[0mAxis\u001b[0m\u001b[1;33m)\u001b[0m \u001b[1;33m->\u001b[0m \u001b[0mAxisInt\u001b[0m\u001b[1;33m:\u001b[0m\u001b[1;33m\u001b[0m\u001b[1;33m\u001b[0m\u001b[0m\n\u001b[0;32m    551\u001b[0m         \u001b[1;32mtry\u001b[0m\u001b[1;33m:\u001b[0m\u001b[1;33m\u001b[0m\u001b[1;33m\u001b[0m\u001b[0m\n\u001b[0;32m    552\u001b[0m             \u001b[1;32mreturn\u001b[0m \u001b[0mcls\u001b[0m\u001b[1;33m.\u001b[0m\u001b[0m_AXIS_TO_AXIS_NUMBER\u001b[0m\u001b[1;33m[\u001b[0m\u001b[0maxis\u001b[0m\u001b[1;33m]\u001b[0m\u001b[1;33m\u001b[0m\u001b[1;33m\u001b[0m\u001b[0m\n\u001b[0;32m    553\u001b[0m         \u001b[1;32mexcept\u001b[0m \u001b[0mKeyError\u001b[0m\u001b[1;33m:\u001b[0m\u001b[1;33m\u001b[0m\u001b[1;33m\u001b[0m\u001b[0m\n\u001b[1;32m--> 554\u001b[1;33m             \u001b[1;32mraise\u001b[0m \u001b[0mValueError\u001b[0m\u001b[1;33m(\u001b[0m\u001b[1;34mf\"No axis named {axis} for object type {cls.__name__}\"\u001b[0m\u001b[1;33m)\u001b[0m\u001b[1;33m\u001b[0m\u001b[1;33m\u001b[0m\u001b[0m\n\u001b[0m",
      "\u001b[1;31mValueError\u001b[0m: No axis named A for object type DataFrame"
     ]
    }
   ],
   "source": [
    "data = {\n",
    "  \"calories\": [420, 380, 390],\n",
    "  \"duration\": [50, 40, 45]\n",
    "}\n",
    "index1 = ['A', 'B', 'C']\n",
    "df = pd.DataFrame(data, index=index1)\n",
    "print(df)\n",
    "print(df.loc(\"A\"))"
   ]
  },
  {
   "cell_type": "code",
   "execution_count": null,
   "id": "0d4bfe88-0f07-43a5-9fdf-f9c52911e1a3",
   "metadata": {},
   "outputs": [],
   "source": [
    "-Create a data frame\n",
    "-Provide the data\n",
    "-Add the columns\n",
    "-Provide the index"
   ]
  },
  {
   "cell_type": "code",
   "execution_count": 32,
   "id": "27b296f7-5334-428d-a6a1-36f9f192c95e",
   "metadata": {},
   "outputs": [
    {
     "data": {
      "text/html": [
       "<div>\n",
       "<style scoped>\n",
       "    .dataframe tbody tr th:only-of-type {\n",
       "        vertical-align: middle;\n",
       "    }\n",
       "\n",
       "    .dataframe tbody tr th {\n",
       "        vertical-align: top;\n",
       "    }\n",
       "\n",
       "    .dataframe thead th {\n",
       "        text-align: right;\n",
       "    }\n",
       "</style>\n",
       "<table border=\"1\" class=\"dataframe\">\n",
       "  <thead>\n",
       "    <tr style=\"text-align: right;\">\n",
       "      <th></th>\n",
       "    </tr>\n",
       "  </thead>\n",
       "  <tbody>\n",
       "  </tbody>\n",
       "</table>\n",
       "</div>"
      ],
      "text/plain": [
       "Empty DataFrame\n",
       "Columns: []\n",
       "Index: []"
      ]
     },
     "execution_count": 32,
     "metadata": {},
     "output_type": "execute_result"
    }
   ],
   "source": [
    "import pandas as pd\n",
    "pd.DataFrame()"
   ]
  },
  {
   "cell_type": "code",
   "execution_count": null,
   "id": "3ef81f98-e748-41d1-8a71-e7265d9706f6",
   "metadata": {},
   "outputs": [],
   "source": [
    "- Add a new column on existing data frame\n",
    "   - If we want to add new column, require to check how many columns we have there(Ex: 3).\n",
    "    - Our new columns also should have same number of clumns(Ex:3)\n",
    "    - Suppose, I want to create new column, called salary.\n",
    "     - Make a list 3 values.\n",
    "      - salary=[1000,2000,3000]\n",
    "*** Synatx****\n",
    "     dataframe[salary] = list of values"
   ]
  },
  {
   "cell_type": "code",
   "execution_count": 42,
   "id": "f28075e5-50d7-4b78-bedd-18efb992740b",
   "metadata": {},
   "outputs": [
    {
     "name": "stdout",
     "output_type": "stream",
     "text": [
      "     name  age city  salary\n",
      "0  venkat   25  Hyd    1000\n",
      "1  balaji   22  Blr    2000\n",
      "2   shiva   32  Chn    3000\n"
     ]
    }
   ],
   "source": [
    "import pandas as pd\n",
    "\n",
    "data = {\n",
    "    \"name\" : ['venkat', 'balaji', 'shiva'],\n",
    "    \"age\" : [25, 22, 32],\n",
    "    \"city\" : ['Hyd', 'Blr', 'Chn']\n",
    "}\n",
    "d1 = pd.DataFrame(data)\n",
    "salary=[1000,2000,3000]\n",
    "d1['salary'] = salary\n",
    "print(d1)"
   ]
  },
  {
   "cell_type": "code",
   "execution_count": 51,
   "id": "0d20e6f8-8bbc-4dd8-8de1-d07df2fd31f8",
   "metadata": {},
   "outputs": [
    {
     "name": "stdout",
     "output_type": "stream",
     "text": [
      "    X    Y     Z\n",
      "0   1    1     1\n",
      "1   2    4     8\n",
      "2   3    9    27\n",
      "3   4   16    64\n",
      "4   5   25   125\n",
      "5   6   36   216\n",
      "6   7   49   343\n",
      "7   8   64   512\n",
      "8   9   81   729\n",
      "9  10  100  1000\n"
     ]
    }
   ],
   "source": [
    "#Create empty data frame list\n",
    "# Create 3 lists using list comphrensio \n",
    "#list1 = values from 1 to 10\n",
    "#list2 = square of 1 to 10\n",
    "#list3 = cube of 1 to 10\n",
    "# Finally make a data frame.\n",
    "\n",
    "import pandas as pd\n",
    "d1 = pd.DataFrame()\n",
    "list1 = [i for i in range(1, 11)]\n",
    "list2 = [i**2 for i in range(1, 11)]\n",
    "list3 = [i**3 for i in range(1, 11)]\n",
    "data = zip(list1, list2, list3)\n",
    "d1['X'] = list1\n",
    "d1['Y'] = list2\n",
    "d1['Z'] = list3\n",
    "print(d1)"
   ]
  },
  {
   "cell_type": "code",
   "execution_count": null,
   "id": "43fe1884-fb03-48e2-9b4f-aa968d54439b",
   "metadata": {},
   "outputs": [],
   "source": [
    "**Step-6\n",
    "Update the values for existing column"
   ]
  },
  {
   "cell_type": "code",
   "execution_count": null,
   "id": "276d3993-cb85-44d1-9e14-07b2b0e2f1c3",
   "metadata": {},
   "outputs": [],
   "source": [
    "- Create a new column, update the exiting column are same way only.\n",
    "- Here also we need to make a list of values=number of rows"
   ]
  },
  {
   "cell_type": "code",
   "execution_count": 56,
   "id": "91376c79-144b-43eb-9a0b-6b44bf2a5def",
   "metadata": {},
   "outputs": [
    {
     "name": "stdout",
     "output_type": "stream",
     "text": [
      "     Name City  Age  Salary\n",
      "0  venkat  Hyd   22    1000\n",
      "1  balaji  Blr   24    2000\n",
      "2   Priya  Chn   16    3000\n",
      "\n",
      "      Name City  Age  Salary\n",
      "0  venkat  Hyd   22    5000\n",
      "1  balaji  Blr   24   10000\n",
      "2   Priya  Chn   16   15000\n",
      "\n",
      "      Name City  Age  Salary Date Of Birth Gender\n",
      "0  venkat  Hyd   22    5000  16-July-2000      M\n",
      "1  balaji  Blr   24   10000   12-Dec-2012      M\n",
      "2   Priya  Chn   16   15000   19-Feb-2010      F\n"
     ]
    }
   ],
   "source": [
    "import pandas as pd\n",
    "name = ['venkat', 'balaji', 'Priya']\n",
    "age = [22, 24, 16]\n",
    "salary = [1000, 2000, 3000]\n",
    "city = ['Hyd', 'Blr', 'Chn']\n",
    "column = ['Name', 'City', 'Age', 'Salary']\n",
    "data = zip(name, city, age, salary)\n",
    "d1 = pd.DataFrame(data, columns=column)\n",
    "print(d1)\n",
    "salary2 = [5000, 10000, 15000]\n",
    "d1['Salary'] = salary2\n",
    "print('\\n',d1)\n",
    "d1['Date Of Birth'] = ['16-July-2000', '12-Dec-2012', '19-Feb-2010']\n",
    "d1['Gender'] = ['M', 'M', 'F']\n",
    "d1['Gender'] = ['M', 'M', 'F']\n",
    "print('\\n',d1)"
   ]
  },
  {
   "cell_type": "code",
   "execution_count": null,
   "id": "51474b8a-4d98-48d6-b1e2-8c7d69aacb12",
   "metadata": {},
   "outputs": [],
   "source": []
  },
  {
   "cell_type": "code",
   "execution_count": null,
   "id": "abb89b95-003d-4c00-b8f9-ca1322a393c6",
   "metadata": {},
   "outputs": [],
   "source": [
    "** Step-7: How to drop the column\n",
    " - How to check the columns?\n",
    " ---- If we want to drop a specific column, we will use drop method.\n",
    "----- We already know differnce between keywords and methods\n",
    "---   Keywords will use directly \n",
    "---- Methods will use corresponding data frame.\n",
    "---- Method name : drop\n",
    "---- Axis:  Represents the specified vlaue is a row or column\n",
    "      -- axis = 0 --> Row   (This is by default)\n",
    "      -- axis = 1 --> Column\n",
    "---- inplace : Override the data frame or not.\n",
    "         inplace = True --> Override the frame\n",
    "         inplace = False --> The modified data frame will be use when you provide new variable for the operation"
   ]
  },
  {
   "cell_type": "code",
   "execution_count": 66,
   "id": "b6845cda-8a1f-4dda-b19d-b444d3ac99f6",
   "metadata": {},
   "outputs": [
    {
     "name": "stdout",
     "output_type": "stream",
     "text": [
      "\n",
      "      Name City  Age  Salary Date Of Birth designation\n",
      "0  venkat  Hyd   22    5000  16-July-2000     Manager\n",
      "1  balaji  Blr   24   10000   12-Dec-2012    Engineer\n",
      "2   Priya  Chn   16   15000   19-Feb-2010    Director\n"
     ]
    }
   ],
   "source": [
    "import pandas as pd\n",
    "name = ['venkat', 'balaji', 'Priya']\n",
    "age = [22, 24, 16]\n",
    "salary = [1000, 2000, 3000]\n",
    "city = ['Hyd', 'Blr', 'Chn']\n",
    "column = ['Name', 'City', 'Age', 'Salary']\n",
    "data = zip(name, city, age, salary)\n",
    "d2 = pd.DataFrame(data, columns=column)\n",
    "#print(d2)\n",
    "salary2 = [5000, 10000, 15000]\n",
    "d2['Salary'] = salary2\n",
    "#print('\\n',d2)\n",
    "d2['Date Of Birth'] = ['16-July-2000', '12-Dec-2012', '19-Feb-2010']\n",
    "d2['Gender'] = ['M', 'M', 'F']\n",
    "d2['Gender'] = ['M', 'M', 'F']\n",
    "d2['designation'] = ['Manager', 'Engineer', 'Director']\n",
    "#print('\\n',d2)\n",
    "d2.drop('Gender', axis=1, inplace=True)\n",
    "print('\\n',d2)"
   ]
  },
  {
   "cell_type": "code",
   "execution_count": null,
   "id": "f26902d8-b04f-4e41-8978-f2c21c10ccd8",
   "metadata": {},
   "outputs": [],
   "source": []
  },
  {
   "cell_type": "code",
   "execution_count": 67,
   "id": "0c866e76-6817-4a65-ab82-521c8fadcbd2",
   "metadata": {},
   "outputs": [
    {
     "name": "stdout",
     "output_type": "stream",
     "text": [
      "        0   1     2\n",
      "0  venkat  22  1000\n",
      "1  balaji  24  2000\n",
      "2   Priya  16  3000\n"
     ]
    }
   ],
   "source": [
    "import pandas as pd\n",
    "name = ['venkat', 'balaji', 'Priya']\n",
    "age = [22, 24, 16]\n",
    "salary = [1000, 2000, 3000]\n",
    "data = zip(name, age, salary)\n",
    "d1 = pd.DataFrame(data)\n",
    "print(d1)"
   ]
  },
  {
   "cell_type": "code",
   "execution_count": null,
   "id": "b128b3f0-71a5-4fa8-b89e-0ceec0020787",
   "metadata": {},
   "outputs": [],
   "source": [
    "Step - 8 --- Drop the row\n",
    "\n",
    "- Drop the row and drop the column both are same only\n",
    "   -- The only difference is axis\n",
    "     axis = 0 represents rows\n",
    "     axis = 1 represents column\n",
    "      - By default axis = 0 available\n",
    "       which means if we provide any value, it will represent rows only.\n",
    "\n",
    "\n",
    "           "
   ]
  },
  {
   "cell_type": "code",
   "execution_count": 71,
   "id": "9d4b6c92-bd6b-4382-8e1c-9579d7af262b",
   "metadata": {},
   "outputs": [
    {
     "name": "stdout",
     "output_type": "stream",
     "text": [
      "   Number1  Number2  Number3\n",
      "0        1        1        1\n",
      "1        2        4        8\n",
      "2        3        9       27\n",
      "3        4       16       64\n",
      "4        5       25      125\n",
      "5        6       36      216\n",
      "6        7       49      343\n",
      "7        8       64      512\n",
      "8        9       81      729\n",
      "9       10      100     1000\n"
     ]
    },
    {
     "data": {
      "text/html": [
       "<div>\n",
       "<style scoped>\n",
       "    .dataframe tbody tr th:only-of-type {\n",
       "        vertical-align: middle;\n",
       "    }\n",
       "\n",
       "    .dataframe tbody tr th {\n",
       "        vertical-align: top;\n",
       "    }\n",
       "\n",
       "    .dataframe thead th {\n",
       "        text-align: right;\n",
       "    }\n",
       "</style>\n",
       "<table border=\"1\" class=\"dataframe\">\n",
       "  <thead>\n",
       "    <tr style=\"text-align: right;\">\n",
       "      <th></th>\n",
       "      <th>Number1</th>\n",
       "      <th>Number2</th>\n",
       "      <th>Number3</th>\n",
       "    </tr>\n",
       "  </thead>\n",
       "  <tbody>\n",
       "    <tr>\n",
       "      <th>0</th>\n",
       "      <td>1</td>\n",
       "      <td>1</td>\n",
       "      <td>1</td>\n",
       "    </tr>\n",
       "    <tr>\n",
       "      <th>1</th>\n",
       "      <td>2</td>\n",
       "      <td>4</td>\n",
       "      <td>8</td>\n",
       "    </tr>\n",
       "    <tr>\n",
       "      <th>2</th>\n",
       "      <td>3</td>\n",
       "      <td>9</td>\n",
       "      <td>27</td>\n",
       "    </tr>\n",
       "    <tr>\n",
       "      <th>3</th>\n",
       "      <td>4</td>\n",
       "      <td>16</td>\n",
       "      <td>64</td>\n",
       "    </tr>\n",
       "    <tr>\n",
       "      <th>5</th>\n",
       "      <td>6</td>\n",
       "      <td>36</td>\n",
       "      <td>216</td>\n",
       "    </tr>\n",
       "    <tr>\n",
       "      <th>6</th>\n",
       "      <td>7</td>\n",
       "      <td>49</td>\n",
       "      <td>343</td>\n",
       "    </tr>\n",
       "    <tr>\n",
       "      <th>7</th>\n",
       "      <td>8</td>\n",
       "      <td>64</td>\n",
       "      <td>512</td>\n",
       "    </tr>\n",
       "    <tr>\n",
       "      <th>8</th>\n",
       "      <td>9</td>\n",
       "      <td>81</td>\n",
       "      <td>729</td>\n",
       "    </tr>\n",
       "    <tr>\n",
       "      <th>9</th>\n",
       "      <td>10</td>\n",
       "      <td>100</td>\n",
       "      <td>1000</td>\n",
       "    </tr>\n",
       "  </tbody>\n",
       "</table>\n",
       "</div>"
      ],
      "text/plain": [
       "   Number1  Number2  Number3\n",
       "0        1        1        1\n",
       "1        2        4        8\n",
       "2        3        9       27\n",
       "3        4       16       64\n",
       "5        6       36      216\n",
       "6        7       49      343\n",
       "7        8       64      512\n",
       "8        9       81      729\n",
       "9       10      100     1000"
      ]
     },
     "execution_count": 71,
     "metadata": {},
     "output_type": "execute_result"
    }
   ],
   "source": [
    "import pandas as pd\n",
    "df2 = pd.DataFrame()\n",
    "l1 = [i for i in range(1, 11)]\n",
    "l2 = [i ** 2 for i in range(1, 11)]\n",
    "l3 = [i ** 3 for i in range(1, 11)]\n",
    "\n",
    "df2['Number1'] = l1\n",
    "df2['Number2'] = l2\n",
    "df2['Number3'] = l3\n",
    "print(df2)\n",
    "df2.drop(4)"
   ]
  },
  {
   "cell_type": "code",
   "execution_count": 72,
   "id": "940f4662-34b4-4772-bbd2-e06574cdb17c",
   "metadata": {},
   "outputs": [
    {
     "data": {
      "text/html": [
       "<div>\n",
       "<style scoped>\n",
       "    .dataframe tbody tr th:only-of-type {\n",
       "        vertical-align: middle;\n",
       "    }\n",
       "\n",
       "    .dataframe tbody tr th {\n",
       "        vertical-align: top;\n",
       "    }\n",
       "\n",
       "    .dataframe thead th {\n",
       "        text-align: right;\n",
       "    }\n",
       "</style>\n",
       "<table border=\"1\" class=\"dataframe\">\n",
       "  <thead>\n",
       "    <tr style=\"text-align: right;\">\n",
       "      <th></th>\n",
       "      <th>Number1</th>\n",
       "      <th>Number2</th>\n",
       "      <th>Number3</th>\n",
       "    </tr>\n",
       "  </thead>\n",
       "  <tbody>\n",
       "    <tr>\n",
       "      <th>0</th>\n",
       "      <td>1</td>\n",
       "      <td>1</td>\n",
       "      <td>1</td>\n",
       "    </tr>\n",
       "    <tr>\n",
       "      <th>1</th>\n",
       "      <td>2</td>\n",
       "      <td>4</td>\n",
       "      <td>8</td>\n",
       "    </tr>\n",
       "    <tr>\n",
       "      <th>2</th>\n",
       "      <td>3</td>\n",
       "      <td>9</td>\n",
       "      <td>27</td>\n",
       "    </tr>\n",
       "    <tr>\n",
       "      <th>3</th>\n",
       "      <td>4</td>\n",
       "      <td>16</td>\n",
       "      <td>64</td>\n",
       "    </tr>\n",
       "    <tr>\n",
       "      <th>5</th>\n",
       "      <td>6</td>\n",
       "      <td>36</td>\n",
       "      <td>216</td>\n",
       "    </tr>\n",
       "    <tr>\n",
       "      <th>6</th>\n",
       "      <td>7</td>\n",
       "      <td>49</td>\n",
       "      <td>343</td>\n",
       "    </tr>\n",
       "    <tr>\n",
       "      <th>7</th>\n",
       "      <td>8</td>\n",
       "      <td>64</td>\n",
       "      <td>512</td>\n",
       "    </tr>\n",
       "    <tr>\n",
       "      <th>9</th>\n",
       "      <td>10</td>\n",
       "      <td>100</td>\n",
       "      <td>1000</td>\n",
       "    </tr>\n",
       "  </tbody>\n",
       "</table>\n",
       "</div>"
      ],
      "text/plain": [
       "   Number1  Number2  Number3\n",
       "0        1        1        1\n",
       "1        2        4        8\n",
       "2        3        9       27\n",
       "3        4       16       64\n",
       "5        6       36      216\n",
       "6        7       49      343\n",
       "7        8       64      512\n",
       "9       10      100     1000"
      ]
     },
     "execution_count": 72,
     "metadata": {},
     "output_type": "execute_result"
    }
   ],
   "source": [
    "#To drop Multiple rows or Multiple columns by using the list.\n",
    "\n",
    "df2.drop([4,8])"
   ]
  },
  {
   "cell_type": "code",
   "execution_count": null,
   "id": "7fef06f9-dd3c-4cd4-a250-4d01ece20c74",
   "metadata": {},
   "outputs": [],
   "source": [
    "We will use the index for both rows and columns, but the index wil be used based on axis.\n",
    "if axis=0 ---> Rows(It is by default if we did not specify it)\n",
    "if axis=1 ---> Columns."
   ]
  },
  {
   "cell_type": "code",
   "execution_count": 73,
   "id": "c9ea4776-bdfa-4eb9-a3cc-5bf553bd3bdf",
   "metadata": {},
   "outputs": [
    {
     "ename": "KeyError",
     "evalue": "'[0, 1] not found in axis'",
     "output_type": "error",
     "traceback": [
      "\u001b[1;31m---------------------------------------------------------------------------\u001b[0m",
      "\u001b[1;31mKeyError\u001b[0m                                  Traceback (most recent call last)",
      "Cell \u001b[1;32mIn[73], line 1\u001b[0m\n\u001b[1;32m----> 1\u001b[0m df2\u001b[38;5;241m.\u001b[39mdrop([\u001b[38;5;241m0\u001b[39m,\u001b[38;5;241m1\u001b[39m], axis\u001b[38;5;241m=\u001b[39m\u001b[38;5;241m1\u001b[39m)\n",
      "File \u001b[1;32m~\\anaconda3\\Lib\\site-packages\\pandas\\core\\frame.py:5344\u001b[0m, in \u001b[0;36mDataFrame.drop\u001b[1;34m(self, labels, axis, index, columns, level, inplace, errors)\u001b[0m\n\u001b[0;32m   5196\u001b[0m \u001b[38;5;28;01mdef\u001b[39;00m \u001b[38;5;21mdrop\u001b[39m(\n\u001b[0;32m   5197\u001b[0m     \u001b[38;5;28mself\u001b[39m,\n\u001b[0;32m   5198\u001b[0m     labels: IndexLabel \u001b[38;5;241m|\u001b[39m \u001b[38;5;28;01mNone\u001b[39;00m \u001b[38;5;241m=\u001b[39m \u001b[38;5;28;01mNone\u001b[39;00m,\n\u001b[1;32m   (...)\u001b[0m\n\u001b[0;32m   5205\u001b[0m     errors: IgnoreRaise \u001b[38;5;241m=\u001b[39m \u001b[38;5;124m\"\u001b[39m\u001b[38;5;124mraise\u001b[39m\u001b[38;5;124m\"\u001b[39m,\n\u001b[0;32m   5206\u001b[0m ) \u001b[38;5;241m-\u001b[39m\u001b[38;5;241m>\u001b[39m DataFrame \u001b[38;5;241m|\u001b[39m \u001b[38;5;28;01mNone\u001b[39;00m:\n\u001b[0;32m   5207\u001b[0m \u001b[38;5;250m    \u001b[39m\u001b[38;5;124;03m\"\"\"\u001b[39;00m\n\u001b[0;32m   5208\u001b[0m \u001b[38;5;124;03m    Drop specified labels from rows or columns.\u001b[39;00m\n\u001b[0;32m   5209\u001b[0m \n\u001b[1;32m   (...)\u001b[0m\n\u001b[0;32m   5342\u001b[0m \u001b[38;5;124;03m            weight  1.0     0.8\u001b[39;00m\n\u001b[0;32m   5343\u001b[0m \u001b[38;5;124;03m    \"\"\"\u001b[39;00m\n\u001b[1;32m-> 5344\u001b[0m     \u001b[38;5;28;01mreturn\u001b[39;00m \u001b[38;5;28msuper\u001b[39m()\u001b[38;5;241m.\u001b[39mdrop(\n\u001b[0;32m   5345\u001b[0m         labels\u001b[38;5;241m=\u001b[39mlabels,\n\u001b[0;32m   5346\u001b[0m         axis\u001b[38;5;241m=\u001b[39maxis,\n\u001b[0;32m   5347\u001b[0m         index\u001b[38;5;241m=\u001b[39mindex,\n\u001b[0;32m   5348\u001b[0m         columns\u001b[38;5;241m=\u001b[39mcolumns,\n\u001b[0;32m   5349\u001b[0m         level\u001b[38;5;241m=\u001b[39mlevel,\n\u001b[0;32m   5350\u001b[0m         inplace\u001b[38;5;241m=\u001b[39minplace,\n\u001b[0;32m   5351\u001b[0m         errors\u001b[38;5;241m=\u001b[39merrors,\n\u001b[0;32m   5352\u001b[0m     )\n",
      "File \u001b[1;32m~\\anaconda3\\Lib\\site-packages\\pandas\\core\\generic.py:4711\u001b[0m, in \u001b[0;36mNDFrame.drop\u001b[1;34m(self, labels, axis, index, columns, level, inplace, errors)\u001b[0m\n\u001b[0;32m   4709\u001b[0m \u001b[38;5;28;01mfor\u001b[39;00m axis, labels \u001b[38;5;129;01min\u001b[39;00m axes\u001b[38;5;241m.\u001b[39mitems():\n\u001b[0;32m   4710\u001b[0m     \u001b[38;5;28;01mif\u001b[39;00m labels \u001b[38;5;129;01mis\u001b[39;00m \u001b[38;5;129;01mnot\u001b[39;00m \u001b[38;5;28;01mNone\u001b[39;00m:\n\u001b[1;32m-> 4711\u001b[0m         obj \u001b[38;5;241m=\u001b[39m obj\u001b[38;5;241m.\u001b[39m_drop_axis(labels, axis, level\u001b[38;5;241m=\u001b[39mlevel, errors\u001b[38;5;241m=\u001b[39merrors)\n\u001b[0;32m   4713\u001b[0m \u001b[38;5;28;01mif\u001b[39;00m inplace:\n\u001b[0;32m   4714\u001b[0m     \u001b[38;5;28mself\u001b[39m\u001b[38;5;241m.\u001b[39m_update_inplace(obj)\n",
      "File \u001b[1;32m~\\anaconda3\\Lib\\site-packages\\pandas\\core\\generic.py:4753\u001b[0m, in \u001b[0;36mNDFrame._drop_axis\u001b[1;34m(self, labels, axis, level, errors, only_slice)\u001b[0m\n\u001b[0;32m   4751\u001b[0m         new_axis \u001b[38;5;241m=\u001b[39m axis\u001b[38;5;241m.\u001b[39mdrop(labels, level\u001b[38;5;241m=\u001b[39mlevel, errors\u001b[38;5;241m=\u001b[39merrors)\n\u001b[0;32m   4752\u001b[0m     \u001b[38;5;28;01melse\u001b[39;00m:\n\u001b[1;32m-> 4753\u001b[0m         new_axis \u001b[38;5;241m=\u001b[39m axis\u001b[38;5;241m.\u001b[39mdrop(labels, errors\u001b[38;5;241m=\u001b[39merrors)\n\u001b[0;32m   4754\u001b[0m     indexer \u001b[38;5;241m=\u001b[39m axis\u001b[38;5;241m.\u001b[39mget_indexer(new_axis)\n\u001b[0;32m   4756\u001b[0m \u001b[38;5;66;03m# Case for non-unique axis\u001b[39;00m\n\u001b[0;32m   4757\u001b[0m \u001b[38;5;28;01melse\u001b[39;00m:\n",
      "File \u001b[1;32m~\\anaconda3\\Lib\\site-packages\\pandas\\core\\indexes\\base.py:7000\u001b[0m, in \u001b[0;36mIndex.drop\u001b[1;34m(self, labels, errors)\u001b[0m\n\u001b[0;32m   6998\u001b[0m \u001b[38;5;28;01mif\u001b[39;00m mask\u001b[38;5;241m.\u001b[39many():\n\u001b[0;32m   6999\u001b[0m     \u001b[38;5;28;01mif\u001b[39;00m errors \u001b[38;5;241m!=\u001b[39m \u001b[38;5;124m\"\u001b[39m\u001b[38;5;124mignore\u001b[39m\u001b[38;5;124m\"\u001b[39m:\n\u001b[1;32m-> 7000\u001b[0m         \u001b[38;5;28;01mraise\u001b[39;00m \u001b[38;5;167;01mKeyError\u001b[39;00m(\u001b[38;5;124mf\u001b[39m\u001b[38;5;124m\"\u001b[39m\u001b[38;5;132;01m{\u001b[39;00mlabels[mask]\u001b[38;5;241m.\u001b[39mtolist()\u001b[38;5;132;01m}\u001b[39;00m\u001b[38;5;124m not found in axis\u001b[39m\u001b[38;5;124m\"\u001b[39m)\n\u001b[0;32m   7001\u001b[0m     indexer \u001b[38;5;241m=\u001b[39m indexer[\u001b[38;5;241m~\u001b[39mmask]\n\u001b[0;32m   7002\u001b[0m \u001b[38;5;28;01mreturn\u001b[39;00m \u001b[38;5;28mself\u001b[39m\u001b[38;5;241m.\u001b[39mdelete(indexer)\n",
      "\u001b[1;31mKeyError\u001b[0m: '[0, 1] not found in axis'"
     ]
    }
   ],
   "source": [
    "df2.drop([0,1], axis=1)"
   ]
  },
  {
   "cell_type": "code",
   "execution_count": null,
   "id": "160feaee-c2e7-47b6-a2ce-2be5baecf90d",
   "metadata": {},
   "outputs": [],
   "source": [
    "Step-9:  How to select the column?"
   ]
  },
  {
   "cell_type": "code",
   "execution_count": 77,
   "id": "5a8eb609-daaf-4026-9b67-0a109dad4009",
   "metadata": {},
   "outputs": [
    {
     "data": {
      "text/plain": [
       "pandas.core.series.Series"
      ]
     },
     "execution_count": 77,
     "metadata": {},
     "output_type": "execute_result"
    }
   ],
   "source": [
    "# Series type\n",
    "df2['Number1']\n",
    "type(df2['Number1'])\n",
    "\n",
    "#Series type:\n",
    "    # No column display\n",
    "    #Whenever you see this type: Series type\n"
   ]
  },
  {
   "cell_type": "code",
   "execution_count": 78,
   "id": "e71d64c9-56e5-498b-bd55-3715fbd46f53",
   "metadata": {},
   "outputs": [
    {
     "data": {
      "text/plain": [
       "pandas.core.frame.DataFrame"
      ]
     },
     "execution_count": 78,
     "metadata": {},
     "output_type": "execute_result"
    }
   ],
   "source": [
    "df2[['Number2']]\n",
    "type(df2[['Number2']])\n",
    "# Data frame"
   ]
  },
  {
   "cell_type": "code",
   "execution_count": 80,
   "id": "80601cdb-e23b-4de6-9f8a-2de1eb07897b",
   "metadata": {},
   "outputs": [
    {
     "data": {
      "text/plain": [
       "pandas.core.series.Series"
      ]
     },
     "execution_count": 80,
     "metadata": {},
     "output_type": "execute_result"
    }
   ],
   "source": [
    "df2.Number2\n",
    "type(df2.Number2)"
   ]
  },
  {
   "cell_type": "code",
   "execution_count": null,
   "id": "d54cbe6c-78c7-4ef2-b746-54120050a3a3",
   "metadata": {},
   "outputs": [],
   "source": [
    "df2['Number2']  : Series type\n",
    "df2[['Number2']] : DataFrame type\n",
    "df2.Number2 : Series Type"
   ]
  },
  {
   "cell_type": "code",
   "execution_count": 86,
   "id": "23482ffb-3418-460a-a781-19d68b36dd5a",
   "metadata": {},
   "outputs": [
    {
     "name": "stdout",
     "output_type": "stream",
     "text": [
      "Empty DataFrame\n",
      "Columns: []\n",
      "Index: []\n"
     ]
    },
    {
     "data": {
      "text/html": [
       "<div>\n",
       "<style scoped>\n",
       "    .dataframe tbody tr th:only-of-type {\n",
       "        vertical-align: middle;\n",
       "    }\n",
       "\n",
       "    .dataframe tbody tr th {\n",
       "        vertical-align: top;\n",
       "    }\n",
       "\n",
       "    .dataframe thead th {\n",
       "        text-align: right;\n",
       "    }\n",
       "</style>\n",
       "<table border=\"1\" class=\"dataframe\">\n",
       "  <thead>\n",
       "    <tr style=\"text-align: right;\">\n",
       "      <th></th>\n",
       "      <th>Number</th>\n",
       "      <th>Square</th>\n",
       "      <th>Triple</th>\n",
       "    </tr>\n",
       "  </thead>\n",
       "  <tbody>\n",
       "    <tr>\n",
       "      <th>0</th>\n",
       "      <td>1</td>\n",
       "      <td>1</td>\n",
       "      <td>1</td>\n",
       "    </tr>\n",
       "    <tr>\n",
       "      <th>1</th>\n",
       "      <td>2</td>\n",
       "      <td>4</td>\n",
       "      <td>8</td>\n",
       "    </tr>\n",
       "    <tr>\n",
       "      <th>2</th>\n",
       "      <td>3</td>\n",
       "      <td>9</td>\n",
       "      <td>27</td>\n",
       "    </tr>\n",
       "    <tr>\n",
       "      <th>3</th>\n",
       "      <td>4</td>\n",
       "      <td>16</td>\n",
       "      <td>64</td>\n",
       "    </tr>\n",
       "    <tr>\n",
       "      <th>4</th>\n",
       "      <td>5</td>\n",
       "      <td>25</td>\n",
       "      <td>125</td>\n",
       "    </tr>\n",
       "    <tr>\n",
       "      <th>5</th>\n",
       "      <td>6</td>\n",
       "      <td>36</td>\n",
       "      <td>216</td>\n",
       "    </tr>\n",
       "    <tr>\n",
       "      <th>6</th>\n",
       "      <td>7</td>\n",
       "      <td>49</td>\n",
       "      <td>343</td>\n",
       "    </tr>\n",
       "    <tr>\n",
       "      <th>7</th>\n",
       "      <td>8</td>\n",
       "      <td>64</td>\n",
       "      <td>512</td>\n",
       "    </tr>\n",
       "    <tr>\n",
       "      <th>8</th>\n",
       "      <td>9</td>\n",
       "      <td>81</td>\n",
       "      <td>729</td>\n",
       "    </tr>\n",
       "    <tr>\n",
       "      <th>9</th>\n",
       "      <td>10</td>\n",
       "      <td>100</td>\n",
       "      <td>1000</td>\n",
       "    </tr>\n",
       "  </tbody>\n",
       "</table>\n",
       "</div>"
      ],
      "text/plain": [
       "   Number  Square  Triple\n",
       "0       1       1       1\n",
       "1       2       4       8\n",
       "2       3       9      27\n",
       "3       4      16      64\n",
       "4       5      25     125\n",
       "5       6      36     216\n",
       "6       7      49     343\n",
       "7       8      64     512\n",
       "8       9      81     729\n",
       "9      10     100    1000"
      ]
     },
     "execution_count": 86,
     "metadata": {},
     "output_type": "execute_result"
    }
   ],
   "source": [
    "import pandas as pd\n",
    "df2 = pd.DataFrame()\n",
    "number = [i for i in range(1, 11)]\n",
    "square = [i ** 2 for i in range(1, 11)]\n",
    "triple = [i ** 3 for i in range(1, 11)]\n",
    "print(df2)\n",
    "#cols = ['Number', 'Square','Triple']\n",
    "df2['Number'] = number\n",
    "df2['Square'] = square\n",
    "df2['Triple'] = triple\n",
    "df2"
   ]
  },
  {
   "cell_type": "code",
   "execution_count": null,
   "id": "6d038d3c-ad84-4143-b705-7e9441731b78",
   "metadata": {},
   "outputs": [],
   "source": [
    "--- All values come in an array\n",
    " --- Array means it is a list of elements only represents using numpy package\n",
    " -- Generally elements present in 4 ways:\n",
    "\n",
    "    - List : Basic representation\n",
    "\n",
    "    - Numpay : Array with numpy package\n",
    "\n",
    "    - Tensors : Tensorflow package\n",
    "\n",
    "    - Torch : Pytorch package\n"
   ]
  },
  {
   "cell_type": "code",
   "execution_count": 87,
   "id": "c09760c8-9028-4384-9572-9ab4f54ff89b",
   "metadata": {},
   "outputs": [
    {
     "data": {
      "text/plain": [
       "[1, 2, 3, 4]"
      ]
     },
     "execution_count": 87,
     "metadata": {},
     "output_type": "execute_result"
    }
   ],
   "source": [
    "list1 = [1, 2, 3, 4]\n",
    "list1"
   ]
  },
  {
   "cell_type": "code",
   "execution_count": 88,
   "id": "8c1284a8-db96-457e-81b4-1a168d992914",
   "metadata": {},
   "outputs": [
    {
     "data": {
      "text/plain": [
       "array([1, 2, 3, 4])"
      ]
     },
     "execution_count": 88,
     "metadata": {},
     "output_type": "execute_result"
    }
   ],
   "source": [
    "import numpy as np\n",
    "np.array(list1)"
   ]
  },
  {
   "cell_type": "code",
   "execution_count": 1,
   "id": "262a6614-6bfc-4e7f-8297-b2fb97564e5b",
   "metadata": {},
   "outputs": [
    {
     "ename": "NameError",
     "evalue": "name 'tensor' is not defined",
     "output_type": "error",
     "traceback": [
      "\u001b[1;31m---------------------------------------------------------------------------\u001b[0m",
      "\u001b[1;31mNameError\u001b[0m                                 Traceback (most recent call last)",
      "Cell \u001b[1;32mIn[1], line 1\u001b[0m\n\u001b[1;32m----> 1\u001b[0m tensor([\u001b[38;5;241m1\u001b[39m,\u001b[38;5;241m2\u001b[39m,\u001b[38;5;241m3\u001b[39m,\u001b[38;5;241m4\u001b[39m])\n",
      "\u001b[1;31mNameError\u001b[0m: name 'tensor' is not defined"
     ]
    }
   ],
   "source": [
    "tensor([1,2,3,4])"
   ]
  },
  {
   "cell_type": "code",
   "execution_count": 99,
   "id": "0b1752f9-d315-49a0-90d6-aa70336951ed",
   "metadata": {},
   "outputs": [
    {
     "data": {
      "text/plain": [
       "[1, 2, 3, 4, 10, 20, 30, 40]"
      ]
     },
     "execution_count": 99,
     "metadata": {},
     "output_type": "execute_result"
    }
   ],
   "source": [
    "l1 = [1,2,3,4]\n",
    "l2 = [10,20,30,40]\n",
    "l1+l2\n"
   ]
  },
  {
   "cell_type": "code",
   "execution_count": 100,
   "id": "62851999-c5e7-4c51-97c3-e78fc54e1a0b",
   "metadata": {},
   "outputs": [
    {
     "name": "stdout",
     "output_type": "stream",
     "text": [
      "[1 2 3 4]\n",
      "[10 20 30 40]\n",
      "<class 'numpy.ndarray'>\n",
      "<class 'numpy.ndarray'>\n"
     ]
    },
    {
     "data": {
      "text/plain": [
       "array([11, 22, 33, 44])"
      ]
     },
     "execution_count": 100,
     "metadata": {},
     "output_type": "execute_result"
    }
   ],
   "source": [
    "import numpy as np\n",
    "l1 = [1,2,3,4]\n",
    "l2 = [10,20,30,40]\n",
    "np1=np.array(l1)\n",
    "np2=np.array(l2)\n",
    "print(np1)\n",
    "print(np2)\n",
    "print(type(np1))\n",
    "print(type(np2))\n",
    "np1+np2"
   ]
  },
  {
   "cell_type": "code",
   "execution_count": 101,
   "id": "15b136a1-d34a-4921-8091-3859a8245be7",
   "metadata": {},
   "outputs": [
    {
     "data": {
      "text/html": [
       "<div>\n",
       "<style scoped>\n",
       "    .dataframe tbody tr th:only-of-type {\n",
       "        vertical-align: middle;\n",
       "    }\n",
       "\n",
       "    .dataframe tbody tr th {\n",
       "        vertical-align: top;\n",
       "    }\n",
       "\n",
       "    .dataframe thead th {\n",
       "        text-align: right;\n",
       "    }\n",
       "</style>\n",
       "<table border=\"1\" class=\"dataframe\">\n",
       "  <thead>\n",
       "    <tr style=\"text-align: right;\">\n",
       "      <th></th>\n",
       "      <th>Number</th>\n",
       "      <th>Square</th>\n",
       "      <th>Triple</th>\n",
       "    </tr>\n",
       "  </thead>\n",
       "  <tbody>\n",
       "    <tr>\n",
       "      <th>0</th>\n",
       "      <td>1</td>\n",
       "      <td>1</td>\n",
       "      <td>1</td>\n",
       "    </tr>\n",
       "    <tr>\n",
       "      <th>1</th>\n",
       "      <td>2</td>\n",
       "      <td>4</td>\n",
       "      <td>8</td>\n",
       "    </tr>\n",
       "    <tr>\n",
       "      <th>2</th>\n",
       "      <td>3</td>\n",
       "      <td>9</td>\n",
       "      <td>27</td>\n",
       "    </tr>\n",
       "    <tr>\n",
       "      <th>3</th>\n",
       "      <td>4</td>\n",
       "      <td>16</td>\n",
       "      <td>64</td>\n",
       "    </tr>\n",
       "    <tr>\n",
       "      <th>4</th>\n",
       "      <td>5</td>\n",
       "      <td>25</td>\n",
       "      <td>125</td>\n",
       "    </tr>\n",
       "    <tr>\n",
       "      <th>5</th>\n",
       "      <td>6</td>\n",
       "      <td>36</td>\n",
       "      <td>216</td>\n",
       "    </tr>\n",
       "    <tr>\n",
       "      <th>6</th>\n",
       "      <td>7</td>\n",
       "      <td>49</td>\n",
       "      <td>343</td>\n",
       "    </tr>\n",
       "    <tr>\n",
       "      <th>7</th>\n",
       "      <td>8</td>\n",
       "      <td>64</td>\n",
       "      <td>512</td>\n",
       "    </tr>\n",
       "    <tr>\n",
       "      <th>8</th>\n",
       "      <td>9</td>\n",
       "      <td>81</td>\n",
       "      <td>729</td>\n",
       "    </tr>\n",
       "    <tr>\n",
       "      <th>9</th>\n",
       "      <td>10</td>\n",
       "      <td>100</td>\n",
       "      <td>1000</td>\n",
       "    </tr>\n",
       "  </tbody>\n",
       "</table>\n",
       "</div>"
      ],
      "text/plain": [
       "   Number  Square  Triple\n",
       "0       1       1       1\n",
       "1       2       4       8\n",
       "2       3       9      27\n",
       "3       4      16      64\n",
       "4       5      25     125\n",
       "5       6      36     216\n",
       "6       7      49     343\n",
       "7       8      64     512\n",
       "8       9      81     729\n",
       "9      10     100    1000"
      ]
     },
     "execution_count": 101,
     "metadata": {},
     "output_type": "execute_result"
    }
   ],
   "source": [
    "df2['Number'].values\n",
    "df2"
   ]
  },
  {
   "cell_type": "code",
   "execution_count": null,
   "id": "4cd86a8b-844a-46d8-a21b-f996b059c98b",
   "metadata": {},
   "outputs": [],
   "source": [
    "**** How to save the dataframe?\n",
    "**** Step-10 : Save the dataframe\n",
    "\n",
    " --- Datafarames are saveing in two frmats:\n",
    "       --- 1> CSV: Comma Separated Values\n",
    "       ---- 2> xlsx: Excel format\n",
    "\n",
    "-- In order to save any data\n",
    "    --- Where you want to save  : directory name\n",
    "    --- What is the name of the file to storing\n",
    "    ---- What is the extension"
   ]
  },
  {
   "cell_type": "code",
   "execution_count": 105,
   "id": "df7f3945-f3c3-48f0-b390-ae0a1659cba4",
   "metadata": {},
   "outputs": [
    {
     "name": "stdout",
     "output_type": "stream",
     "text": [
      "   Number  Square  Triple\n",
      "0       1       1       1\n",
      "1       2       4       8\n",
      "2       3       9      27\n",
      "3       4      16      64\n",
      "4       5      25     125\n",
      "5       6      36     216\n",
      "6       7      49     343\n",
      "7       8      64     512\n",
      "8       9      81     729\n",
      "9      10     100    1000\n"
     ]
    }
   ],
   "source": [
    "#Dataframe : df2\n",
    "print(df2)\n",
    "df2.to_csv('Data1.csv')\n",
    "df2.to_excel('Data1.xlsx')"
   ]
  },
  {
   "cell_type": "code",
   "execution_count": null,
   "id": "923a9f0b-e534-4af6-96ab-20adf6c63911",
   "metadata": {},
   "outputs": [],
   "source": []
  },
  {
   "cell_type": "code",
   "execution_count": null,
   "id": "52f734a4-65ce-49ea-8c3b-1eca880c7da4",
   "metadata": {},
   "outputs": [],
   "source": [
    "*** Step-11:  How to read a dataframe?\n",
    "\n"
   ]
  },
  {
   "cell_type": "code",
   "execution_count": 110,
   "id": "ddb6348a-4747-4c46-9a04-96c495b5fa41",
   "metadata": {},
   "outputs": [
    {
     "name": "stdout",
     "output_type": "stream",
     "text": [
      "   Unnamed: 0  Number  Square  Triple\n",
      "0           0       1       1       1\n",
      "1           1       2       4       8\n",
      "2           2       3       9      27\n",
      "3           3       4      16      64\n",
      "4           4       5      25     125\n",
      "5           5       6      36     216\n",
      "6           6       7      49     343\n",
      "7           7       8      64     512\n",
      "8           8       9      81     729\n",
      "9           9      10     100    1000\n",
      "   Unnamed: 0  Number  Square  Triple\n",
      "0           0       1       1       1\n",
      "1           1       2       4       8\n",
      "2           2       3       9      27\n",
      "3           3       4      16      64\n",
      "4           4       5      25     125\n",
      "5           5       6      36     216\n",
      "6           6       7      49     343\n",
      "7           7       8      64     512\n",
      "8           8       9      81     729\n",
      "9           9      10     100    1000\n"
     ]
    }
   ],
   "source": [
    "import pandas as pd\n",
    "dataframe_csv1 = pd.read_csv('Data1.csv')\n",
    "print(dataframe_csv1)\n",
    "dataframe_xls1 = pd.read_excel('Data1.xlsx')\n",
    "print(dataframe_xls1)"
   ]
  },
  {
   "cell_type": "code",
   "execution_count": 107,
   "id": "8640c6cb-463f-4bc7-8398-a94f34fed5f4",
   "metadata": {},
   "outputs": [
    {
     "data": {
      "text/plain": [
       "'C:\\\\Users\\\\nagal\\\\OneDrive\\\\Documents\\\\NareshIT\\\\EDA'"
      ]
     },
     "execution_count": 107,
     "metadata": {},
     "output_type": "execute_result"
    }
   ],
   "source": [
    "import os\n",
    "os.getcwd()"
   ]
  },
  {
   "cell_type": "code",
   "execution_count": null,
   "id": "5f6f8244-5d2c-47e2-ae15-ffce4d19302c",
   "metadata": {},
   "outputs": [],
   "source": [
    "**** step-13: How to avoid index column?\n",
    "\n",
    "   -- While we save the dataframe\n",
    "         -- Automatically a new column will create.\n",
    "        \n",
    "\n"
   ]
  },
  {
   "cell_type": "code",
   "execution_count": 111,
   "id": "e8edc9f5-dc91-4e41-900e-120fd2f3c803",
   "metadata": {},
   "outputs": [
    {
     "name": "stdout",
     "output_type": "stream",
     "text": [
      "   Number  Square  Triple\n",
      "0       1       1       1\n",
      "1       2       4       8\n",
      "2       3       9      27\n",
      "3       4      16      64\n",
      "4       5      25     125\n",
      "5       6      36     216\n",
      "6       7      49     343\n",
      "7       8      64     512\n",
      "8       9      81     729\n",
      "9      10     100    1000\n"
     ]
    }
   ],
   "source": [
    "#### Save the data without index column, the file will not have index column\n",
    "print(df2)\n",
    "df2.to_csv('Data1.csv', index=False)\n",
    "df2.to_excel('Data1.xlsx', index=False)"
   ]
  },
  {
   "cell_type": "code",
   "execution_count": null,
   "id": "4f76178f-bc8b-4dda-99ce-e900074e78b0",
   "metadata": {},
   "outputs": [],
   "source": []
  }
 ],
 "metadata": {
  "kernelspec": {
   "display_name": "Python 3 (ipykernel)",
   "language": "python",
   "name": "python3"
  },
  "language_info": {
   "codemirror_mode": {
    "name": "ipython",
    "version": 3
   },
   "file_extension": ".py",
   "mimetype": "text/x-python",
   "name": "python",
   "nbconvert_exporter": "python",
   "pygments_lexer": "ipython3",
   "version": "3.11.7"
  }
 },
 "nbformat": 4,
 "nbformat_minor": 5
}
