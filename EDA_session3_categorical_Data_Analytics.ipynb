{
 "cells": [
  {
   "cell_type": "code",
   "execution_count": null,
   "id": "99359900-8bcf-43fb-b20b-d65ec51132fc",
   "metadata": {},
   "outputs": [],
   "source": [
    "#Read the packages\n",
    "#Read the data\n",
    "#cat nuerical\n",
    "\n"
   ]
  },
  {
   "cell_type": "code",
   "execution_count": null,
   "id": "364cad99-bbe1-4c86-b669-fa95bc5c39d3",
   "metadata": {},
   "outputs": [],
   "source": [
    "# Everyday we will work on Visa dataset\n",
    "# The same analysis you need to perform work on bank dataset\n",
    "# Analytics Vidhay hackton\n",
    "#    will pick one dataset"
   ]
  },
  {
   "cell_type": "code",
   "execution_count": 3,
   "id": "65e10df9-10b6-4d7a-bd7f-be5951473525",
   "metadata": {},
   "outputs": [],
   "source": [
    "import pandas as pd\n",
    "import numpy as np\n",
    "import matplotlib.pyplot as plt\n",
    "import seaborn as sns"
   ]
  },
  {
   "cell_type": "code",
   "execution_count": 5,
   "id": "01399185-fc77-432a-ab23-cf7a277f2d2f",
   "metadata": {},
   "outputs": [
    {
     "data": {
      "text/html": [
       "<div>\n",
       "<style scoped>\n",
       "    .dataframe tbody tr th:only-of-type {\n",
       "        vertical-align: middle;\n",
       "    }\n",
       "\n",
       "    .dataframe tbody tr th {\n",
       "        vertical-align: top;\n",
       "    }\n",
       "\n",
       "    .dataframe thead th {\n",
       "        text-align: right;\n",
       "    }\n",
       "</style>\n",
       "<table border=\"1\" class=\"dataframe\">\n",
       "  <thead>\n",
       "    <tr style=\"text-align: right;\">\n",
       "      <th></th>\n",
       "      <th>case_id</th>\n",
       "      <th>continent</th>\n",
       "      <th>education_of_employee</th>\n",
       "      <th>has_job_experience</th>\n",
       "      <th>requires_job_training</th>\n",
       "      <th>no_of_employees</th>\n",
       "      <th>yr_of_estab</th>\n",
       "      <th>region_of_employment</th>\n",
       "      <th>prevailing_wage</th>\n",
       "      <th>unit_of_wage</th>\n",
       "      <th>full_time_position</th>\n",
       "      <th>case_status</th>\n",
       "    </tr>\n",
       "  </thead>\n",
       "  <tbody>\n",
       "    <tr>\n",
       "      <th>0</th>\n",
       "      <td>EZYV01</td>\n",
       "      <td>Asia</td>\n",
       "      <td>High School</td>\n",
       "      <td>N</td>\n",
       "      <td>N</td>\n",
       "      <td>14513</td>\n",
       "      <td>2007</td>\n",
       "      <td>West</td>\n",
       "      <td>592.2029</td>\n",
       "      <td>Hour</td>\n",
       "      <td>Y</td>\n",
       "      <td>Denied</td>\n",
       "    </tr>\n",
       "    <tr>\n",
       "      <th>1</th>\n",
       "      <td>EZYV02</td>\n",
       "      <td>Asia</td>\n",
       "      <td>Master's</td>\n",
       "      <td>Y</td>\n",
       "      <td>N</td>\n",
       "      <td>2412</td>\n",
       "      <td>2002</td>\n",
       "      <td>Northeast</td>\n",
       "      <td>83425.6500</td>\n",
       "      <td>Year</td>\n",
       "      <td>Y</td>\n",
       "      <td>Certified</td>\n",
       "    </tr>\n",
       "    <tr>\n",
       "      <th>2</th>\n",
       "      <td>EZYV03</td>\n",
       "      <td>Asia</td>\n",
       "      <td>Bachelor's</td>\n",
       "      <td>N</td>\n",
       "      <td>Y</td>\n",
       "      <td>44444</td>\n",
       "      <td>2008</td>\n",
       "      <td>West</td>\n",
       "      <td>122996.8600</td>\n",
       "      <td>Year</td>\n",
       "      <td>Y</td>\n",
       "      <td>Denied</td>\n",
       "    </tr>\n",
       "    <tr>\n",
       "      <th>3</th>\n",
       "      <td>EZYV04</td>\n",
       "      <td>Asia</td>\n",
       "      <td>Bachelor's</td>\n",
       "      <td>N</td>\n",
       "      <td>N</td>\n",
       "      <td>98</td>\n",
       "      <td>1897</td>\n",
       "      <td>West</td>\n",
       "      <td>83434.0300</td>\n",
       "      <td>Year</td>\n",
       "      <td>Y</td>\n",
       "      <td>Denied</td>\n",
       "    </tr>\n",
       "    <tr>\n",
       "      <th>4</th>\n",
       "      <td>EZYV05</td>\n",
       "      <td>Africa</td>\n",
       "      <td>Master's</td>\n",
       "      <td>Y</td>\n",
       "      <td>N</td>\n",
       "      <td>1082</td>\n",
       "      <td>2005</td>\n",
       "      <td>South</td>\n",
       "      <td>149907.3900</td>\n",
       "      <td>Year</td>\n",
       "      <td>Y</td>\n",
       "      <td>Certified</td>\n",
       "    </tr>\n",
       "  </tbody>\n",
       "</table>\n",
       "</div>"
      ],
      "text/plain": [
       "  case_id continent education_of_employee has_job_experience  \\\n",
       "0  EZYV01      Asia           High School                  N   \n",
       "1  EZYV02      Asia              Master's                  Y   \n",
       "2  EZYV03      Asia            Bachelor's                  N   \n",
       "3  EZYV04      Asia            Bachelor's                  N   \n",
       "4  EZYV05    Africa              Master's                  Y   \n",
       "\n",
       "  requires_job_training  no_of_employees  yr_of_estab region_of_employment  \\\n",
       "0                     N            14513         2007                 West   \n",
       "1                     N             2412         2002            Northeast   \n",
       "2                     Y            44444         2008                 West   \n",
       "3                     N               98         1897                 West   \n",
       "4                     N             1082         2005                South   \n",
       "\n",
       "   prevailing_wage unit_of_wage full_time_position case_status  \n",
       "0         592.2029         Hour                  Y      Denied  \n",
       "1       83425.6500         Year                  Y   Certified  \n",
       "2      122996.8600         Year                  Y      Denied  \n",
       "3       83434.0300         Year                  Y      Denied  \n",
       "4      149907.3900         Year                  Y   Certified  "
      ]
     },
     "execution_count": 5,
     "metadata": {},
     "output_type": "execute_result"
    }
   ],
   "source": [
    "path = r\"C:\\Users\\nagal\\OneDrive\\Documents\\NareshIT\\EDA\\Visadataset.csv\"\n",
    "visa_df = pd.read_csv(path)\n",
    "visa_df.head()"
   ]
  },
  {
   "cell_type": "code",
   "execution_count": null,
   "id": "b87618ef-bd64-42b3-95c1-3b3b6b9760c2",
   "metadata": {},
   "outputs": [],
   "source": [
    "#Devides into Categorical and Numerical columns\n"
   ]
  },
  {
   "cell_type": "code",
   "execution_count": 7,
   "id": "0d2f51da-8475-4c5e-b617-77c2bcd46af5",
   "metadata": {},
   "outputs": [
    {
     "data": {
      "text/plain": [
       "{'case_id': dtype('O'),\n",
       " 'continent': dtype('O'),\n",
       " 'education_of_employee': dtype('O'),\n",
       " 'has_job_experience': dtype('O'),\n",
       " 'requires_job_training': dtype('O'),\n",
       " 'no_of_employees': dtype('int64'),\n",
       " 'yr_of_estab': dtype('int64'),\n",
       " 'region_of_employment': dtype('O'),\n",
       " 'prevailing_wage': dtype('float64'),\n",
       " 'unit_of_wage': dtype('O'),\n",
       " 'full_time_position': dtype('O'),\n",
       " 'case_status': dtype('O')}"
      ]
     },
     "execution_count": 7,
     "metadata": {},
     "output_type": "execute_result"
    }
   ],
   "source": [
    "types = dict(visa_df.dtypes)\n",
    "types"
   ]
  },
  {
   "cell_type": "code",
   "execution_count": 8,
   "id": "5be88fad-f6db-4c8e-bd16-be783860dc29",
   "metadata": {},
   "outputs": [],
   "source": [
    "cat_columns = [key for key, value in types.items() if value == 'object']\n",
    "num_columns= [key for key, value in types.items() if value != 'object']"
   ]
  },
  {
   "cell_type": "code",
   "execution_count": 9,
   "id": "1b13398a-636f-4582-921e-4cfb553af7de",
   "metadata": {},
   "outputs": [
    {
     "name": "stdout",
     "output_type": "stream",
     "text": [
      "['case_id', 'continent', 'education_of_employee', 'has_job_experience', 'requires_job_training', 'region_of_employment', 'unit_of_wage', 'full_time_position', 'case_status']\n"
     ]
    }
   ],
   "source": [
    "print(cat_columns)"
   ]
  },
  {
   "cell_type": "code",
   "execution_count": 10,
   "id": "b2b502cb-12b8-44cd-bfb5-4092ff6d9ad0",
   "metadata": {},
   "outputs": [
    {
     "name": "stdout",
     "output_type": "stream",
     "text": [
      "['no_of_employees', 'yr_of_estab', 'prevailing_wage']\n"
     ]
    }
   ],
   "source": [
    "print(num_columns)"
   ]
  },
  {
   "cell_type": "code",
   "execution_count": 12,
   "id": "4c978420-30ec-4364-a233-fbbe3bc61955",
   "metadata": {},
   "outputs": [
    {
     "name": "stdout",
     "output_type": "stream",
     "text": [
      "Index(['case_id', 'continent', 'education_of_employee', 'has_job_experience',\n",
      "       'requires_job_training', 'region_of_employment', 'unit_of_wage',\n",
      "       'full_time_position', 'case_status'],\n",
      "      dtype='object')\n",
      "Index(['no_of_employees', 'yr_of_estab', 'prevailing_wage'], dtype='object')\n"
     ]
    }
   ],
   "source": [
    "cat_columns = visa_df.select_dtypes(include='object').columns\n",
    "num_columns = visa_df.select_dtypes(exclude='object').columns\n",
    "print(cat_columns)\n",
    "print(num_columns)"
   ]
  },
  {
   "cell_type": "code",
   "execution_count": 13,
   "id": "7772f399-7965-4ea7-b5ec-432a92dab6ea",
   "metadata": {},
   "outputs": [
    {
     "data": {
      "text/plain": [
       "0          Asia\n",
       "1          Asia\n",
       "2          Asia\n",
       "3          Asia\n",
       "4        Africa\n",
       "          ...  \n",
       "25475      Asia\n",
       "25476      Asia\n",
       "25477      Asia\n",
       "25478      Asia\n",
       "25479      Asia\n",
       "Name: continent, Length: 25480, dtype: object"
      ]
     },
     "execution_count": 13,
     "metadata": {},
     "output_type": "execute_result"
    }
   ],
   "source": [
    "visa_df['continent']"
   ]
  },
  {
   "cell_type": "code",
   "execution_count": 14,
   "id": "0c492c27-510c-4109-8e48-00454e47bf74",
   "metadata": {},
   "outputs": [
    {
     "data": {
      "text/html": [
       "<div>\n",
       "<style scoped>\n",
       "    .dataframe tbody tr th:only-of-type {\n",
       "        vertical-align: middle;\n",
       "    }\n",
       "\n",
       "    .dataframe tbody tr th {\n",
       "        vertical-align: top;\n",
       "    }\n",
       "\n",
       "    .dataframe thead th {\n",
       "        text-align: right;\n",
       "    }\n",
       "</style>\n",
       "<table border=\"1\" class=\"dataframe\">\n",
       "  <thead>\n",
       "    <tr style=\"text-align: right;\">\n",
       "      <th></th>\n",
       "      <th>continent</th>\n",
       "    </tr>\n",
       "  </thead>\n",
       "  <tbody>\n",
       "    <tr>\n",
       "      <th>0</th>\n",
       "      <td>Asia</td>\n",
       "    </tr>\n",
       "    <tr>\n",
       "      <th>1</th>\n",
       "      <td>Asia</td>\n",
       "    </tr>\n",
       "    <tr>\n",
       "      <th>2</th>\n",
       "      <td>Asia</td>\n",
       "    </tr>\n",
       "    <tr>\n",
       "      <th>3</th>\n",
       "      <td>Asia</td>\n",
       "    </tr>\n",
       "    <tr>\n",
       "      <th>4</th>\n",
       "      <td>Africa</td>\n",
       "    </tr>\n",
       "    <tr>\n",
       "      <th>...</th>\n",
       "      <td>...</td>\n",
       "    </tr>\n",
       "    <tr>\n",
       "      <th>25475</th>\n",
       "      <td>Asia</td>\n",
       "    </tr>\n",
       "    <tr>\n",
       "      <th>25476</th>\n",
       "      <td>Asia</td>\n",
       "    </tr>\n",
       "    <tr>\n",
       "      <th>25477</th>\n",
       "      <td>Asia</td>\n",
       "    </tr>\n",
       "    <tr>\n",
       "      <th>25478</th>\n",
       "      <td>Asia</td>\n",
       "    </tr>\n",
       "    <tr>\n",
       "      <th>25479</th>\n",
       "      <td>Asia</td>\n",
       "    </tr>\n",
       "  </tbody>\n",
       "</table>\n",
       "<p>25480 rows × 1 columns</p>\n",
       "</div>"
      ],
      "text/plain": [
       "      continent\n",
       "0          Asia\n",
       "1          Asia\n",
       "2          Asia\n",
       "3          Asia\n",
       "4        Africa\n",
       "...         ...\n",
       "25475      Asia\n",
       "25476      Asia\n",
       "25477      Asia\n",
       "25478      Asia\n",
       "25479      Asia\n",
       "\n",
       "[25480 rows x 1 columns]"
      ]
     },
     "execution_count": 14,
     "metadata": {},
     "output_type": "execute_result"
    }
   ],
   "source": [
    "visa_df[['continent']]"
   ]
  },
  {
   "cell_type": "code",
   "execution_count": 15,
   "id": "d448354e-241d-4aa5-b482-034f828962b8",
   "metadata": {},
   "outputs": [
    {
     "data": {
      "text/plain": [
       "0          Asia\n",
       "1          Asia\n",
       "2          Asia\n",
       "3          Asia\n",
       "4        Africa\n",
       "          ...  \n",
       "25475      Asia\n",
       "25476      Asia\n",
       "25477      Asia\n",
       "25478      Asia\n",
       "25479      Asia\n",
       "Name: continent, Length: 25480, dtype: object"
      ]
     },
     "execution_count": 15,
     "metadata": {},
     "output_type": "execute_result"
    }
   ],
   "source": [
    "visa_df.continent"
   ]
  },
  {
   "cell_type": "code",
   "execution_count": 17,
   "id": "86ebffa2-6864-437b-8899-3ea9a817a2a6",
   "metadata": {},
   "outputs": [
    {
     "data": {
      "text/html": [
       "<div>\n",
       "<style scoped>\n",
       "    .dataframe tbody tr th:only-of-type {\n",
       "        vertical-align: middle;\n",
       "    }\n",
       "\n",
       "    .dataframe tbody tr th {\n",
       "        vertical-align: top;\n",
       "    }\n",
       "\n",
       "    .dataframe thead th {\n",
       "        text-align: right;\n",
       "    }\n",
       "</style>\n",
       "<table border=\"1\" class=\"dataframe\">\n",
       "  <thead>\n",
       "    <tr style=\"text-align: right;\">\n",
       "      <th></th>\n",
       "      <th>continent</th>\n",
       "    </tr>\n",
       "  </thead>\n",
       "  <tbody>\n",
       "    <tr>\n",
       "      <th>0</th>\n",
       "      <td>Asia</td>\n",
       "    </tr>\n",
       "    <tr>\n",
       "      <th>1</th>\n",
       "      <td>Asia</td>\n",
       "    </tr>\n",
       "    <tr>\n",
       "      <th>2</th>\n",
       "      <td>Asia</td>\n",
       "    </tr>\n",
       "    <tr>\n",
       "      <th>3</th>\n",
       "      <td>Asia</td>\n",
       "    </tr>\n",
       "    <tr>\n",
       "      <th>4</th>\n",
       "      <td>Africa</td>\n",
       "    </tr>\n",
       "    <tr>\n",
       "      <th>...</th>\n",
       "      <td>...</td>\n",
       "    </tr>\n",
       "    <tr>\n",
       "      <th>25475</th>\n",
       "      <td>Asia</td>\n",
       "    </tr>\n",
       "    <tr>\n",
       "      <th>25476</th>\n",
       "      <td>Asia</td>\n",
       "    </tr>\n",
       "    <tr>\n",
       "      <th>25477</th>\n",
       "      <td>Asia</td>\n",
       "    </tr>\n",
       "    <tr>\n",
       "      <th>25478</th>\n",
       "      <td>Asia</td>\n",
       "    </tr>\n",
       "    <tr>\n",
       "      <th>25479</th>\n",
       "      <td>Asia</td>\n",
       "    </tr>\n",
       "  </tbody>\n",
       "</table>\n",
       "<p>25480 rows × 1 columns</p>\n",
       "</div>"
      ],
      "text/plain": [
       "      continent\n",
       "0          Asia\n",
       "1          Asia\n",
       "2          Asia\n",
       "3          Asia\n",
       "4        Africa\n",
       "...         ...\n",
       "25475      Asia\n",
       "25476      Asia\n",
       "25477      Asia\n",
       "25478      Asia\n",
       "25479      Asia\n",
       "\n",
       "[25480 rows x 1 columns]"
      ]
     },
     "execution_count": 17,
     "metadata": {},
     "output_type": "execute_result"
    }
   ],
   "source": [
    "visa_df.loc[:,['continent']]"
   ]
  },
  {
   "cell_type": "code",
   "execution_count": null,
   "id": "9ba84c22-e324-4947-970e-143c10f042c8",
   "metadata": {},
   "outputs": [],
   "source": [
    "visa_df['continent']  # dataframe\n",
    "visa_df[['continent']] # we can read multiple columns\n",
    "visa_df.continent\n",
    "visa_df.loc[:,['continent']]"
   ]
  },
  {
   "cell_type": "code",
   "execution_count": null,
   "id": "980a0ec6-2520-4e94-92d6-7c3f0164792f",
   "metadata": {},
   "outputs": [],
   "source": [
    "Read the multiple columns:\n",
    " - Whenever we see multiple means recall the list\n",
    " - Keep the columns in list\n",
    " - pass that list"
   ]
  },
  {
   "cell_type": "code",
   "execution_count": 18,
   "id": "f015f380-8829-406c-9e60-5a7a82f85fa7",
   "metadata": {},
   "outputs": [
    {
     "data": {
      "text/html": [
       "<div>\n",
       "<style scoped>\n",
       "    .dataframe tbody tr th:only-of-type {\n",
       "        vertical-align: middle;\n",
       "    }\n",
       "\n",
       "    .dataframe tbody tr th {\n",
       "        vertical-align: top;\n",
       "    }\n",
       "\n",
       "    .dataframe thead th {\n",
       "        text-align: right;\n",
       "    }\n",
       "</style>\n",
       "<table border=\"1\" class=\"dataframe\">\n",
       "  <thead>\n",
       "    <tr style=\"text-align: right;\">\n",
       "      <th></th>\n",
       "      <th>continent</th>\n",
       "      <th>case_status</th>\n",
       "    </tr>\n",
       "  </thead>\n",
       "  <tbody>\n",
       "    <tr>\n",
       "      <th>0</th>\n",
       "      <td>Asia</td>\n",
       "      <td>Denied</td>\n",
       "    </tr>\n",
       "    <tr>\n",
       "      <th>1</th>\n",
       "      <td>Asia</td>\n",
       "      <td>Certified</td>\n",
       "    </tr>\n",
       "    <tr>\n",
       "      <th>2</th>\n",
       "      <td>Asia</td>\n",
       "      <td>Denied</td>\n",
       "    </tr>\n",
       "    <tr>\n",
       "      <th>3</th>\n",
       "      <td>Asia</td>\n",
       "      <td>Denied</td>\n",
       "    </tr>\n",
       "    <tr>\n",
       "      <th>4</th>\n",
       "      <td>Africa</td>\n",
       "      <td>Certified</td>\n",
       "    </tr>\n",
       "    <tr>\n",
       "      <th>...</th>\n",
       "      <td>...</td>\n",
       "      <td>...</td>\n",
       "    </tr>\n",
       "    <tr>\n",
       "      <th>25475</th>\n",
       "      <td>Asia</td>\n",
       "      <td>Certified</td>\n",
       "    </tr>\n",
       "    <tr>\n",
       "      <th>25476</th>\n",
       "      <td>Asia</td>\n",
       "      <td>Certified</td>\n",
       "    </tr>\n",
       "    <tr>\n",
       "      <th>25477</th>\n",
       "      <td>Asia</td>\n",
       "      <td>Certified</td>\n",
       "    </tr>\n",
       "    <tr>\n",
       "      <th>25478</th>\n",
       "      <td>Asia</td>\n",
       "      <td>Certified</td>\n",
       "    </tr>\n",
       "    <tr>\n",
       "      <th>25479</th>\n",
       "      <td>Asia</td>\n",
       "      <td>Certified</td>\n",
       "    </tr>\n",
       "  </tbody>\n",
       "</table>\n",
       "<p>25480 rows × 2 columns</p>\n",
       "</div>"
      ],
      "text/plain": [
       "      continent case_status\n",
       "0          Asia      Denied\n",
       "1          Asia   Certified\n",
       "2          Asia      Denied\n",
       "3          Asia      Denied\n",
       "4        Africa   Certified\n",
       "...         ...         ...\n",
       "25475      Asia   Certified\n",
       "25476      Asia   Certified\n",
       "25477      Asia   Certified\n",
       "25478      Asia   Certified\n",
       "25479      Asia   Certified\n",
       "\n",
       "[25480 rows x 2 columns]"
      ]
     },
     "execution_count": 18,
     "metadata": {},
     "output_type": "execute_result"
    }
   ],
   "source": [
    "cols=['continent', 'case_status']\n",
    "visa_df[cols]\n"
   ]
  },
  {
   "cell_type": "code",
   "execution_count": null,
   "id": "6afe72f4-770d-4c39-a15d-5b6252425282",
   "metadata": {},
   "outputs": [],
   "source": [
    "# We want to find the number of applicants continent wise\n",
    " - There is an Asia continent is there\n",
    " - How many applocants are form Asis out of 25480\n",
    "\n",
    "  **** Unique ****\n",
    "   -- Unique will give how many are unique items are there in a particular column"
   ]
  },
  {
   "cell_type": "code",
   "execution_count": 21,
   "id": "95035113-801a-4577-ba56-f19c4326b092",
   "metadata": {},
   "outputs": [
    {
     "data": {
      "text/plain": [
       "array(['Asia', 'Africa', 'North America', 'Europe', 'South America',\n",
       "       'Oceania'], dtype=object)"
      ]
     },
     "execution_count": 21,
     "metadata": {},
     "output_type": "execute_result"
    }
   ],
   "source": [
    "visa_df['continent'].unique()"
   ]
  },
  {
   "cell_type": "code",
   "execution_count": 22,
   "id": "28f03e0f-51f4-4514-9f53-15ec9c96c929",
   "metadata": {},
   "outputs": [
    {
     "data": {
      "text/plain": [
       "6"
      ]
     },
     "execution_count": 22,
     "metadata": {},
     "output_type": "execute_result"
    }
   ],
   "source": [
    "len(visa_df['continent'].unique())"
   ]
  },
  {
   "cell_type": "code",
   "execution_count": 23,
   "id": "8caa0670-a9f3-4752-9a0b-2b4746c97284",
   "metadata": {},
   "outputs": [
    {
     "data": {
      "text/plain": [
       "6"
      ]
     },
     "execution_count": 23,
     "metadata": {},
     "output_type": "execute_result"
    }
   ],
   "source": [
    "#nunique --> Gives count of unique items\n",
    "visa_df['continent'].nunique()"
   ]
  },
  {
   "cell_type": "code",
   "execution_count": null,
   "id": "e21ced80-9038-4f97-87b4-eb1b2aba9abb",
   "metadata": {},
   "outputs": [],
   "source": [
    "# What is difference between len(unique) and nunique\n",
    "len(visa_df['continent'].unique())\n"
   ]
  },
  {
   "cell_type": "code",
   "execution_count": 28,
   "id": "edbba573-95cb-4601-9ff2-2059f85487a0",
   "metadata": {},
   "outputs": [],
   "source": [
    "con=visa_df['continent']=='Asia'"
   ]
  },
  {
   "cell_type": "code",
   "execution_count": 29,
   "id": "f709f82a-7d3c-42c9-9765-d4ec1f9ca319",
   "metadata": {},
   "outputs": [
    {
     "data": {
      "text/html": [
       "<div>\n",
       "<style scoped>\n",
       "    .dataframe tbody tr th:only-of-type {\n",
       "        vertical-align: middle;\n",
       "    }\n",
       "\n",
       "    .dataframe tbody tr th {\n",
       "        vertical-align: top;\n",
       "    }\n",
       "\n",
       "    .dataframe thead th {\n",
       "        text-align: right;\n",
       "    }\n",
       "</style>\n",
       "<table border=\"1\" class=\"dataframe\">\n",
       "  <thead>\n",
       "    <tr style=\"text-align: right;\">\n",
       "      <th></th>\n",
       "      <th>case_id</th>\n",
       "      <th>continent</th>\n",
       "      <th>education_of_employee</th>\n",
       "      <th>has_job_experience</th>\n",
       "      <th>requires_job_training</th>\n",
       "      <th>no_of_employees</th>\n",
       "      <th>yr_of_estab</th>\n",
       "      <th>region_of_employment</th>\n",
       "      <th>prevailing_wage</th>\n",
       "      <th>unit_of_wage</th>\n",
       "      <th>full_time_position</th>\n",
       "      <th>case_status</th>\n",
       "    </tr>\n",
       "  </thead>\n",
       "  <tbody>\n",
       "    <tr>\n",
       "      <th>0</th>\n",
       "      <td>EZYV01</td>\n",
       "      <td>Asia</td>\n",
       "      <td>High School</td>\n",
       "      <td>N</td>\n",
       "      <td>N</td>\n",
       "      <td>14513</td>\n",
       "      <td>2007</td>\n",
       "      <td>West</td>\n",
       "      <td>592.2029</td>\n",
       "      <td>Hour</td>\n",
       "      <td>Y</td>\n",
       "      <td>Denied</td>\n",
       "    </tr>\n",
       "    <tr>\n",
       "      <th>1</th>\n",
       "      <td>EZYV02</td>\n",
       "      <td>Asia</td>\n",
       "      <td>Master's</td>\n",
       "      <td>Y</td>\n",
       "      <td>N</td>\n",
       "      <td>2412</td>\n",
       "      <td>2002</td>\n",
       "      <td>Northeast</td>\n",
       "      <td>83425.6500</td>\n",
       "      <td>Year</td>\n",
       "      <td>Y</td>\n",
       "      <td>Certified</td>\n",
       "    </tr>\n",
       "    <tr>\n",
       "      <th>2</th>\n",
       "      <td>EZYV03</td>\n",
       "      <td>Asia</td>\n",
       "      <td>Bachelor's</td>\n",
       "      <td>N</td>\n",
       "      <td>Y</td>\n",
       "      <td>44444</td>\n",
       "      <td>2008</td>\n",
       "      <td>West</td>\n",
       "      <td>122996.8600</td>\n",
       "      <td>Year</td>\n",
       "      <td>Y</td>\n",
       "      <td>Denied</td>\n",
       "    </tr>\n",
       "    <tr>\n",
       "      <th>3</th>\n",
       "      <td>EZYV04</td>\n",
       "      <td>Asia</td>\n",
       "      <td>Bachelor's</td>\n",
       "      <td>N</td>\n",
       "      <td>N</td>\n",
       "      <td>98</td>\n",
       "      <td>1897</td>\n",
       "      <td>West</td>\n",
       "      <td>83434.0300</td>\n",
       "      <td>Year</td>\n",
       "      <td>Y</td>\n",
       "      <td>Denied</td>\n",
       "    </tr>\n",
       "    <tr>\n",
       "      <th>5</th>\n",
       "      <td>EZYV06</td>\n",
       "      <td>Asia</td>\n",
       "      <td>Master's</td>\n",
       "      <td>Y</td>\n",
       "      <td>N</td>\n",
       "      <td>2339</td>\n",
       "      <td>2012</td>\n",
       "      <td>South</td>\n",
       "      <td>78252.1400</td>\n",
       "      <td>Year</td>\n",
       "      <td>Y</td>\n",
       "      <td>Certified</td>\n",
       "    </tr>\n",
       "    <tr>\n",
       "      <th>...</th>\n",
       "      <td>...</td>\n",
       "      <td>...</td>\n",
       "      <td>...</td>\n",
       "      <td>...</td>\n",
       "      <td>...</td>\n",
       "      <td>...</td>\n",
       "      <td>...</td>\n",
       "      <td>...</td>\n",
       "      <td>...</td>\n",
       "      <td>...</td>\n",
       "      <td>...</td>\n",
       "      <td>...</td>\n",
       "    </tr>\n",
       "    <tr>\n",
       "      <th>25475</th>\n",
       "      <td>EZYV25476</td>\n",
       "      <td>Asia</td>\n",
       "      <td>Bachelor's</td>\n",
       "      <td>Y</td>\n",
       "      <td>Y</td>\n",
       "      <td>2601</td>\n",
       "      <td>2008</td>\n",
       "      <td>South</td>\n",
       "      <td>77092.5700</td>\n",
       "      <td>Year</td>\n",
       "      <td>Y</td>\n",
       "      <td>Certified</td>\n",
       "    </tr>\n",
       "    <tr>\n",
       "      <th>25476</th>\n",
       "      <td>EZYV25477</td>\n",
       "      <td>Asia</td>\n",
       "      <td>High School</td>\n",
       "      <td>Y</td>\n",
       "      <td>N</td>\n",
       "      <td>3274</td>\n",
       "      <td>2006</td>\n",
       "      <td>Northeast</td>\n",
       "      <td>279174.7900</td>\n",
       "      <td>Year</td>\n",
       "      <td>Y</td>\n",
       "      <td>Certified</td>\n",
       "    </tr>\n",
       "    <tr>\n",
       "      <th>25477</th>\n",
       "      <td>EZYV25478</td>\n",
       "      <td>Asia</td>\n",
       "      <td>Master's</td>\n",
       "      <td>Y</td>\n",
       "      <td>N</td>\n",
       "      <td>1121</td>\n",
       "      <td>1910</td>\n",
       "      <td>South</td>\n",
       "      <td>146298.8500</td>\n",
       "      <td>Year</td>\n",
       "      <td>N</td>\n",
       "      <td>Certified</td>\n",
       "    </tr>\n",
       "    <tr>\n",
       "      <th>25478</th>\n",
       "      <td>EZYV25479</td>\n",
       "      <td>Asia</td>\n",
       "      <td>Master's</td>\n",
       "      <td>Y</td>\n",
       "      <td>Y</td>\n",
       "      <td>1918</td>\n",
       "      <td>1887</td>\n",
       "      <td>West</td>\n",
       "      <td>86154.7700</td>\n",
       "      <td>Year</td>\n",
       "      <td>Y</td>\n",
       "      <td>Certified</td>\n",
       "    </tr>\n",
       "    <tr>\n",
       "      <th>25479</th>\n",
       "      <td>EZYV25480</td>\n",
       "      <td>Asia</td>\n",
       "      <td>Bachelor's</td>\n",
       "      <td>Y</td>\n",
       "      <td>N</td>\n",
       "      <td>3195</td>\n",
       "      <td>1960</td>\n",
       "      <td>Midwest</td>\n",
       "      <td>70876.9100</td>\n",
       "      <td>Year</td>\n",
       "      <td>Y</td>\n",
       "      <td>Certified</td>\n",
       "    </tr>\n",
       "  </tbody>\n",
       "</table>\n",
       "<p>16861 rows × 12 columns</p>\n",
       "</div>"
      ],
      "text/plain": [
       "         case_id continent education_of_employee has_job_experience  \\\n",
       "0         EZYV01      Asia           High School                  N   \n",
       "1         EZYV02      Asia              Master's                  Y   \n",
       "2         EZYV03      Asia            Bachelor's                  N   \n",
       "3         EZYV04      Asia            Bachelor's                  N   \n",
       "5         EZYV06      Asia              Master's                  Y   \n",
       "...          ...       ...                   ...                ...   \n",
       "25475  EZYV25476      Asia            Bachelor's                  Y   \n",
       "25476  EZYV25477      Asia           High School                  Y   \n",
       "25477  EZYV25478      Asia              Master's                  Y   \n",
       "25478  EZYV25479      Asia              Master's                  Y   \n",
       "25479  EZYV25480      Asia            Bachelor's                  Y   \n",
       "\n",
       "      requires_job_training  no_of_employees  yr_of_estab  \\\n",
       "0                         N            14513         2007   \n",
       "1                         N             2412         2002   \n",
       "2                         Y            44444         2008   \n",
       "3                         N               98         1897   \n",
       "5                         N             2339         2012   \n",
       "...                     ...              ...          ...   \n",
       "25475                     Y             2601         2008   \n",
       "25476                     N             3274         2006   \n",
       "25477                     N             1121         1910   \n",
       "25478                     Y             1918         1887   \n",
       "25479                     N             3195         1960   \n",
       "\n",
       "      region_of_employment  prevailing_wage unit_of_wage full_time_position  \\\n",
       "0                     West         592.2029         Hour                  Y   \n",
       "1                Northeast       83425.6500         Year                  Y   \n",
       "2                     West      122996.8600         Year                  Y   \n",
       "3                     West       83434.0300         Year                  Y   \n",
       "5                    South       78252.1400         Year                  Y   \n",
       "...                    ...              ...          ...                ...   \n",
       "25475                South       77092.5700         Year                  Y   \n",
       "25476            Northeast      279174.7900         Year                  Y   \n",
       "25477                South      146298.8500         Year                  N   \n",
       "25478                 West       86154.7700         Year                  Y   \n",
       "25479              Midwest       70876.9100         Year                  Y   \n",
       "\n",
       "      case_status  \n",
       "0          Denied  \n",
       "1       Certified  \n",
       "2          Denied  \n",
       "3          Denied  \n",
       "5       Certified  \n",
       "...           ...  \n",
       "25475   Certified  \n",
       "25476   Certified  \n",
       "25477   Certified  \n",
       "25478   Certified  \n",
       "25479   Certified  \n",
       "\n",
       "[16861 rows x 12 columns]"
      ]
     },
     "execution_count": 29,
     "metadata": {},
     "output_type": "execute_result"
    }
   ],
   "source": [
    "visa_df[con]"
   ]
  },
  {
   "cell_type": "code",
   "execution_count": 30,
   "id": "ed43156e-8680-45a5-812a-cf42ea02b678",
   "metadata": {},
   "outputs": [
    {
     "data": {
      "text/plain": [
       "16861"
      ]
     },
     "execution_count": 30,
     "metadata": {},
     "output_type": "execute_result"
    }
   ],
   "source": [
    "# Step1  --> Read the data with specific column\n",
    "# Step2 --> Apply the condition\n",
    "#   When we apply the condition, Python will give True and False vlaues\n",
    "#Step3 --> In order to retrieve the True data\n",
    "    # dataframe_name[con]\n",
    "visa_df['continent']\n",
    "con=visa_df['continent']=='Asia'\n",
    "len(visa_df[con])"
   ]
  },
  {
   "cell_type": "code",
   "execution_count": 39,
   "id": "754b5826-7074-4eec-8b67-ad44ab820e4f",
   "metadata": {},
   "outputs": [
    {
     "data": {
      "text/plain": [
       "array(['Asia', 'Africa', 'North America', 'Europe', 'South America',\n",
       "       'Oceania'], dtype=object)"
      ]
     },
     "execution_count": 39,
     "metadata": {},
     "output_type": "execute_result"
    }
   ],
   "source": [
    "visa_df['continent'].unique()"
   ]
  },
  {
   "cell_type": "code",
   "execution_count": 40,
   "id": "46e19db0-e9fa-4e13-8ab1-8a23cbb5a6f9",
   "metadata": {},
   "outputs": [
    {
     "name": "stdout",
     "output_type": "stream",
     "text": [
      "Asia\n",
      "Africa\n",
      "North America\n",
      "Europe\n",
      "South America\n",
      "Oceania\n"
     ]
    }
   ],
   "source": [
    "for i in visa_df['continent'].unique():\n",
    "    print(i)"
   ]
  },
  {
   "cell_type": "code",
   "execution_count": 32,
   "id": "683f1e57-3136-4071-be2e-368b8fb0bdd6",
   "metadata": {},
   "outputs": [
    {
     "data": {
      "text/plain": [
       "16861"
      ]
     },
     "execution_count": 32,
     "metadata": {},
     "output_type": "execute_result"
    }
   ],
   "source": [
    "len(visa_df[visa_df['continent']=='Asia'])"
   ]
  },
  {
   "cell_type": "code",
   "execution_count": 33,
   "id": "e87b4644-237c-4224-9dd6-48a101e6acc3",
   "metadata": {},
   "outputs": [
    {
     "data": {
      "text/plain": [
       "551"
      ]
     },
     "execution_count": 33,
     "metadata": {},
     "output_type": "execute_result"
    }
   ],
   "source": [
    "len(visa_df[visa_df['continent']=='Africa'])"
   ]
  },
  {
   "cell_type": "code",
   "execution_count": 35,
   "id": "4938cbe7-7114-477d-828e-2e9c5477e777",
   "metadata": {},
   "outputs": [
    {
     "data": {
      "text/plain": [
       "3292"
      ]
     },
     "execution_count": 35,
     "metadata": {},
     "output_type": "execute_result"
    }
   ],
   "source": [
    "len(visa_df[visa_df['continent']=='North America'])"
   ]
  },
  {
   "cell_type": "code",
   "execution_count": 36,
   "id": "309fa56f-de5f-4e1d-84dc-1b13377c9f2d",
   "metadata": {},
   "outputs": [
    {
     "data": {
      "text/plain": [
       "3732"
      ]
     },
     "execution_count": 36,
     "metadata": {},
     "output_type": "execute_result"
    }
   ],
   "source": [
    "len(visa_df[visa_df['continent']=='Europe'])"
   ]
  },
  {
   "cell_type": "code",
   "execution_count": 37,
   "id": "0a826159-b5d2-4306-bff4-25e73d2dd519",
   "metadata": {},
   "outputs": [
    {
     "data": {
      "text/plain": [
       "852"
      ]
     },
     "execution_count": 37,
     "metadata": {},
     "output_type": "execute_result"
    }
   ],
   "source": [
    "len(visa_df[visa_df['continent']=='South America'])"
   ]
  },
  {
   "cell_type": "code",
   "execution_count": 38,
   "id": "072e4795-7d7f-4c07-86ea-b0ed0eabc8f2",
   "metadata": {},
   "outputs": [
    {
     "data": {
      "text/plain": [
       "192"
      ]
     },
     "execution_count": 38,
     "metadata": {},
     "output_type": "execute_result"
    }
   ],
   "source": [
    "len(visa_df[visa_df['continent']=='Oceania'])"
   ]
  },
  {
   "cell_type": "code",
   "execution_count": 55,
   "id": "5ed21a74-764d-4452-b703-6036b56f2adc",
   "metadata": {},
   "outputs": [
    {
     "name": "stdout",
     "output_type": "stream",
     "text": [
      "The number of application for the continent Asia is : 16861\n",
      "The number of application for the continent Africa is : 551\n",
      "The number of application for the continent North America is : 3292\n",
      "The number of application for the continent Europe is : 3732\n",
      "The number of application for the continent South America is : 852\n",
      "The number of application for the continent Oceania is : 192\n"
     ]
    }
   ],
   "source": [
    "for i in visa_df['continent'].unique():\n",
    "    con=visa_df['continent']==i\n",
    "    count = len(visa_df[con])\n",
    "    print(f\"The number of application for the continent {i} is : {count}\")"
   ]
  },
  {
   "cell_type": "code",
   "execution_count": null,
   "id": "e5b99acf-331d-4826-a07b-78f08c4a55a8",
   "metadata": {},
   "outputs": [],
   "source": []
  },
  {
   "cell_type": "code",
   "execution_count": null,
   "id": "36b2ffab-837f-4d8a-a3fb-9b921fb7a633",
   "metadata": {},
   "outputs": [],
   "source": [
    "# Task-2.......\n",
    "\n",
    " - Now instead of print count, take empty list\n",
    " - Save the values in empty list\n",
    " - We already unique vlaue has unique continent list\n",
    " - We also having count list\n",
    " - Create a dataframe\n"
   ]
  },
  {
   "cell_type": "code",
   "execution_count": 52,
   "id": "79674fa6-4061-4150-b381-aba5f82dbc53",
   "metadata": {},
   "outputs": [],
   "source": [
    "continents = visa_df['continent'].unique()\n",
    "\n",
    "continent_list=[]\n",
    "for i in visa_df['continent'].unique():\n",
    "    con=visa_df['continent']==i\n",
    "    count = len(visa_df[con])\n",
    "    continent_list.append(count)\n",
    "\n",
    "data = zip(continents,continent_list)\n",
    "cols = ['Continents','Number Of Applicants']\n",
    "continents_data_df=pd.DataFrame(data, columns=cols)\n",
    "continents_data_df.to_csv('continents_df.csv', index=False)"
   ]
  },
  {
   "cell_type": "code",
   "execution_count": 53,
   "id": "a984fa8c-2b39-40ad-a69e-f9da5f56146b",
   "metadata": {},
   "outputs": [
    {
     "data": {
      "text/plain": [
       "continent\n",
       "Asia             16861\n",
       "Europe            3732\n",
       "North America     3292\n",
       "South America      852\n",
       "Africa             551\n",
       "Oceania            192\n",
       "Name: count, dtype: int64"
      ]
     },
     "execution_count": 53,
     "metadata": {},
     "output_type": "execute_result"
    }
   ],
   "source": [
    "visa_df['continent'].value_counts()"
   ]
  },
  {
   "cell_type": "code",
   "execution_count": null,
   "id": "fed7886b-7764-4563-9a3e-7945933d8390",
   "metadata": {},
   "outputs": [],
   "source": [
    "region_emp_file_df"
   ]
  },
  {
   "cell_type": "code",
   "execution_count": 56,
   "id": "69e33710-8439-4f40-8e94-2958f8473207",
   "metadata": {},
   "outputs": [
    {
     "data": {
      "text/plain": [
       "Index(['case_id', 'continent', 'education_of_employee', 'has_job_experience',\n",
       "       'requires_job_training', 'region_of_employment', 'unit_of_wage',\n",
       "       'full_time_position', 'case_status'],\n",
       "      dtype='object')"
      ]
     },
     "execution_count": 56,
     "metadata": {},
     "output_type": "execute_result"
    }
   ],
   "source": [
    "cat_columns = visa_df.select_dtypes(include='object').columns\n",
    "cat_columns"
   ]
  },
  {
   "cell_type": "code",
   "execution_count": 57,
   "id": "83dfb233-129d-45ea-926c-4de2c99d0532",
   "metadata": {},
   "outputs": [
    {
     "name": "stdout",
     "output_type": "stream",
     "text": [
      "case_id\n",
      "continent\n",
      "education_of_employee\n",
      "has_job_experience\n",
      "requires_job_training\n",
      "region_of_employment\n",
      "unit_of_wage\n",
      "full_time_position\n",
      "case_status\n"
     ]
    }
   ],
   "source": [
    "for i in cat_columns:\n",
    "    print(i)"
   ]
  },
  {
   "cell_type": "code",
   "execution_count": 71,
   "id": "541a4675-3118-45c7-90f3-28b974a6aee9",
   "metadata": {},
   "outputs": [],
   "source": [
    "#cat_columns=visa_df[i].unique()\n",
    "for i in cat_columns:\n",
    "    cdf=visa_df[i].value_counts()\n",
    "    keys=cdf.keys()\n",
    "    values=cdf.values\n",
    "    df=pd.DataFrame(zip(keys,values), columns=['Label', 'Count'])\n",
    "    file_name=f'{i}'+'.csv'\n",
    "    df.to_csv(file_name, index=False)\n",
    "    #print(df)"
   ]
  },
  {
   "cell_type": "code",
   "execution_count": 83,
   "id": "48fd1f87-f73d-440c-a9a4-6c039ba05094",
   "metadata": {},
   "outputs": [],
   "source": [
    "def valuecounts(i):\n",
    "    cdf=visa_df[i].value_counts()\n",
    "    keys=cdf.keys()\n",
    "    values=cdf.values\n",
    "    df=pd.DataFrame(zip(keys,values), columns=['Label', 'Count'])\n",
    "    df.to_csv(f\"{i}.csv\", index=False)\n",
    "\n",
    "for i in cat_columns:\n",
    "    valuecounts(i)"
   ]
  },
  {
   "cell_type": "code",
   "execution_count": 77,
   "id": "7f5f0a66-5166-4031-a3d3-05ec1d5d1197",
   "metadata": {},
   "outputs": [
    {
     "data": {
      "text/plain": [
       "continent\n",
       "Asia             66.17\n",
       "Europe           14.65\n",
       "North America    12.92\n",
       "South America     3.34\n",
       "Africa            2.16\n",
       "Oceania           0.75\n",
       "Name: proportion, dtype: float64"
      ]
     },
     "execution_count": 77,
     "metadata": {},
     "output_type": "execute_result"
    }
   ],
   "source": [
    "cdf=visa_df['continent'].value_counts(normalize=True)\n",
    "round(cdf*100,2)"
   ]
  },
  {
   "cell_type": "code",
   "execution_count": null,
   "id": "fc949f26-0535-42ef-a067-6cb5719cf469",
   "metadata": {},
   "outputs": [],
   "source": [
    "**** Normalize****\n",
    "   - Relative Frequency Table\n",
    "    - Will give the percentage of labels in the column"
   ]
  },
  {
   "cell_type": "code",
   "execution_count": null,
   "id": "089a72b1-657f-44bb-a00a-6ff0036ff73c",
   "metadata": {},
   "outputs": [],
   "source": [
    "****** Bar Chart *****\n",
    " - Bar chart id the graphocal representation of the Frequency table\n",
    "\n",
    " - Bar graph is a plot between count and class\n",
    " - In order to plot the bar chart, we require two columns\n",
    "        - Categorical column\n",
    "        - Numerical column\n",
    "- We already created frequency table for **continents_data_df**\n",
    "\n",
    "     - Here we have cols=['Continents','Number Of Applicants']\n",
    "\n",
    "     - Categorical column is ** Continents***\n",
    "     - Numerical column is ** Number Of Applicants ****\n",
    "\n",
    "- Package : matplotlib"
   ]
  },
  {
   "cell_type": "code",
   "execution_count": 82,
   "id": "dc838104-69ff-4056-8984-a4db8bf02671",
   "metadata": {},
   "outputs": [
    {
     "data": {
      "image/png": "[encoded data removed]",
      "text/plain": [
       "<Figure size 640x480 with 1 Axes>"
      ]
     },
     "metadata": {},
     "output_type": "display_data"
    }
   ],
   "source": [
    "import matplotlib.pyplot as plt\n",
    "plt.bar('Continents', # Cat column - X : Axis\n",
    "        'Number Of Applicants', # numerical column - Y : Axis\n",
    "        data=continents_data_df)\n",
    "plt.title(\"Bar chart\")\n",
    "plt.xlabel('Continents') # X-Axis name\n",
    "plt.ylabel('Number Of Applicants') # Y-Axis name\n",
    "plt.savefig('Continent_Bar_chart.jpg')\n",
    "plt.show() # Show will avoid the writeup and it should be the last"
   ]
  },
  {
   "cell_type": "code",
   "execution_count": 84,
   "id": "ffa0521b-42c7-4656-a0ea-f8784a08535d",
   "metadata": {},
   "outputs": [
    {
     "data": {
      "image/png": "[encoded data removed]",
      "text/plain": [
       "<Figure size 640x480 with 1 Axes>"
      ]
     },
     "metadata": {},
     "output_type": "display_data"
    }
   ],
   "source": [
    "import matplotlib.pyplot as plt\n",
    "plt.bar('Continents','Number Of Applicants', data=continents_data_df)\n",
    "plt.title(\"Continent Bar Chart\")\n",
    "plt.xlabel('Continents')\n",
    "plt.ylabel('Number Of Applicants')\n",
    "plt.savefig('Continent Bar Chart1.jpg')\n",
    "plt.show()"
   ]
  },
  {
   "cell_type": "code",
   "execution_count": 85,
   "id": "0dcf8492-0c02-4cb4-a988-14563018b202",
   "metadata": {},
   "outputs": [
    {
     "name": "stdout",
     "output_type": "stream",
     "text": [
      "{'case_id': dtype('O'), 'continent': dtype('O'), 'education_of_employee': dtype('O'), 'has_job_experience': dtype('O'), 'requires_job_training': dtype('O'), 'no_of_employees': dtype('int64'), 'yr_of_estab': dtype('int64'), 'region_of_employment': dtype('O'), 'prevailing_wage': dtype('float64'), 'unit_of_wage': dtype('O'), 'full_time_position': dtype('O'), 'case_status': dtype('O')}\n",
      "Asia\n",
      "Africa\n",
      "North America\n",
      "Europe\n",
      "South America\n",
      "Oceania\n"
     ]
    }
   ],
   "source": [
    "types = dict(visa_df.dtypes)\n",
    "print(types)\n",
    "for i in visa_df['continent'].unique():\n",
    "    print(i)"
   ]
  },
  {
   "cell_type": "code",
   "execution_count": 87,
   "id": "3f4bce22-56ee-40f9-a6dd-84d337f8a6bf",
   "metadata": {},
   "outputs": [
    {
     "name": "stdout",
     "output_type": "stream",
     "text": [
      "West\n",
      "Northeast\n",
      "South\n",
      "Midwest\n",
      "Island\n"
     ]
    }
   ],
   "source": [
    "for i in visa_df['region_of_employment'].unique():\n",
    "    print(i)"
   ]
  },
  {
   "cell_type": "code",
   "execution_count": 88,
   "id": "67bdbd91-11b0-4e32-9b95-fb3438eef693",
   "metadata": {},
   "outputs": [
    {
     "name": "stdout",
     "output_type": "stream",
     "text": [
      "The number of application for the continent West is : 6586\n",
      "The number of application for the continent Northeast is : 7195\n",
      "The number of application for the continent South is : 7017\n",
      "The number of application for the continent Midwest is : 4307\n",
      "The number of application for the continent Island is : 375\n"
     ]
    }
   ],
   "source": [
    "for i in visa_df['region_of_employment'].unique():\n",
    "    con=visa_df['region_of_employment']==i\n",
    "    count = len(visa_df[con])\n",
    "    print(f\"The number of application for the continent {i} is : {count}\")"
   ]
  },
  {
   "cell_type": "code",
   "execution_count": 89,
   "id": "4b368012-662a-4d29-adfe-2273a7825d1a",
   "metadata": {},
   "outputs": [
    {
     "data": {
      "text/html": [
       "<div>\n",
       "<style scoped>\n",
       "    .dataframe tbody tr th:only-of-type {\n",
       "        vertical-align: middle;\n",
       "    }\n",
       "\n",
       "    .dataframe tbody tr th {\n",
       "        vertical-align: top;\n",
       "    }\n",
       "\n",
       "    .dataframe thead th {\n",
       "        text-align: right;\n",
       "    }\n",
       "</style>\n",
       "<table border=\"1\" class=\"dataframe\">\n",
       "  <thead>\n",
       "    <tr style=\"text-align: right;\">\n",
       "      <th></th>\n",
       "      <th>Regions</th>\n",
       "      <th>Number Of Employees</th>\n",
       "    </tr>\n",
       "  </thead>\n",
       "  <tbody>\n",
       "    <tr>\n",
       "      <th>0</th>\n",
       "      <td>West</td>\n",
       "      <td>6586</td>\n",
       "    </tr>\n",
       "    <tr>\n",
       "      <th>1</th>\n",
       "      <td>Northeast</td>\n",
       "      <td>7195</td>\n",
       "    </tr>\n",
       "    <tr>\n",
       "      <th>2</th>\n",
       "      <td>South</td>\n",
       "      <td>7017</td>\n",
       "    </tr>\n",
       "    <tr>\n",
       "      <th>3</th>\n",
       "      <td>Midwest</td>\n",
       "      <td>4307</td>\n",
       "    </tr>\n",
       "    <tr>\n",
       "      <th>4</th>\n",
       "      <td>Island</td>\n",
       "      <td>375</td>\n",
       "    </tr>\n",
       "  </tbody>\n",
       "</table>\n",
       "</div>"
      ],
      "text/plain": [
       "     Regions  Number Of Employees\n",
       "0       West                 6586\n",
       "1  Northeast                 7195\n",
       "2      South                 7017\n",
       "3    Midwest                 4307\n",
       "4     Island                  375"
      ]
     },
     "execution_count": 89,
     "metadata": {},
     "output_type": "execute_result"
    }
   ],
   "source": [
    "region_list = visa_df['region_of_employment'].unique()\n",
    "\n",
    "num_of_emp_list=[]\n",
    "for i in visa_df['region_of_employment'].unique():\n",
    "    con=visa_df['region_of_employment']==i\n",
    "    count = len(visa_df[con])\n",
    "    num_of_emp_list.append(count)\n",
    "\n",
    "data = zip(region_list,num_of_emp_list)\n",
    "cols = ['Regions','Number Of Employees']\n",
    "region_emp_df=pd.DataFrame(data, columns=cols)\n",
    "region_emp_df"
   ]
  },
  {
   "cell_type": "code",
   "execution_count": 90,
   "id": "8f33e361-46ce-487b-bc50-39716e36efea",
   "metadata": {},
   "outputs": [
    {
     "data": {
      "image/png": "[encoded data removed]",
      "text/plain": [
       "<Figure size 640x480 with 1 Axes>"
      ]
     },
     "metadata": {},
     "output_type": "display_data"
    }
   ],
   "source": [
    "import matplotlib.pyplot as plt\n",
    "plt.bar('Regions','Number Of Employees', data=region_emp_df)\n",
    "plt.title('Region wise Empployees')\n",
    "plt.xlabel('Region')\n",
    "plt.ylabel('Employee')\n",
    "plt.savefig('Region_Employee_chat.jpg')\n",
    "plt.show()"
   ]
  },
  {
   "cell_type": "code",
   "execution_count": 105,
   "id": "03d1c4ac-b7e1-41b7-a114-a1e37fa43cd4",
   "metadata": {},
   "outputs": [
    {
     "name": "stdout",
     "output_type": "stream",
     "text": [
      "        Degree  Degree_value\n",
      "0  High School          3420\n",
      "1     Master's          9634\n",
      "2   Bachelor's         10234\n",
      "3    Doctorate          2192\n"
     ]
    },
    {
     "data": {
      "image/png": "[encoded data removed]",
      "text/plain": [
       "<Figure size 640x480 with 1 Axes>"
      ]
     },
     "metadata": {},
     "output_type": "display_data"
    }
   ],
   "source": [
    "#case-id Chart preparation\n",
    "\n",
    "types = dict(visa_df.dtypes)\n",
    "#print(types)\n",
    "degree_list = visa_df['education_of_employee'].unique()\n",
    "degree_value_list=[]\n",
    "#print(degree_list)\n",
    "\n",
    "for i in visa_df['education_of_employee'].unique():\n",
    "    con=visa_df['education_of_employee']==i\n",
    "    count=len(visa_df[con])\n",
    "    degree_value_list.append(count)\n",
    "cols = ['Degree','Degree_value']\n",
    "degree_df = pd.DataFrame(zip(degree_list, degree_value_list), columns=cols)\n",
    "print(degree_df)\n",
    "\n",
    "plt.bar('Degree', 'Degree_value', data=degree_df)\n",
    "plt.title('Degree count bar chart')\n",
    "plt.xlabel('Degree')\n",
    "plt.ylabel('Count')\n",
    "plt.savefig('Degree_Count_bar_chart.jpg')\n",
    "plt.show()"
   ]
  },
  {
   "cell_type": "markdown",
   "id": "0f2cb758-d9d6-44eb-9113-473d29491d7e",
   "metadata": {},
   "source": [
    "###### types = dict(visa_df.dtypes)\n",
    "print(types)"
   ]
  },
  {
   "cell_type": "code",
   "execution_count": 112,
   "id": "000d2b04-228d-48d3-ad1b-239a2049e231",
   "metadata": {},
   "outputs": [
    {
     "name": "stdout",
     "output_type": "stream",
     "text": [
      "  Job Experience  Count\n",
      "0              N  10678\n",
      "1              Y  14802\n"
     ]
    },
    {
     "data": {
      "image/png": "[encoded data removed]",
      "text/plain": [
       "<Figure size 640x480 with 1 Axes>"
      ]
     },
     "metadata": {},
     "output_type": "display_data"
    }
   ],
   "source": [
    "# Bar chart preparatation for has_job_experience:\n",
    "#for i in visa_df['has_job_experience'].unique():\n",
    "#    print(i)\n",
    "job_exp_list=visa_df['has_job_experience'].unique()\n",
    "job_exp_count_list=[]\n",
    "#print(job_exp_list)\n",
    "\n",
    "for i in visa_df['has_job_experience'].unique():\n",
    "    con=visa_df['has_job_experience']==i\n",
    "    count=len(visa_df[con])\n",
    "    job_exp_count_list.append(count)\n",
    "#print(job_exp_count_list)\n",
    "cols=['Job Experience','Count']\n",
    "job_exp_df=pd.DataFrame(zip(job_exp_list,job_exp_count_list),columns=cols)\n",
    "print(job_exp_df)\n",
    "\n",
    "plt.bar('Job Experience', 'Count', data=job_exp_df)\n",
    "plt.title('Job Experience Chart')\n",
    "plt.xlabel('Experience')\n",
    "plt.ylabel('Count')\n",
    "plt.savefig('Job-Experience-Chart.jpg')\n",
    "plt.show()"
   ]
  },
  {
   "cell_type": "code",
   "execution_count": 114,
   "id": "3701015e-38c7-40b3-98cf-33bb2af4b86e",
   "metadata": {},
   "outputs": [
    {
     "data": {
      "text/plain": [
       "{'case_id': dtype('O'),\n",
       " 'continent': dtype('O'),\n",
       " 'education_of_employee': dtype('O'),\n",
       " 'has_job_experience': dtype('O'),\n",
       " 'requires_job_training': dtype('O'),\n",
       " 'no_of_employees': dtype('int64'),\n",
       " 'yr_of_estab': dtype('int64'),\n",
       " 'region_of_employment': dtype('O'),\n",
       " 'prevailing_wage': dtype('float64'),\n",
       " 'unit_of_wage': dtype('O'),\n",
       " 'full_time_position': dtype('O'),\n",
       " 'case_status': dtype('O')}"
      ]
     },
     "execution_count": 114,
     "metadata": {},
     "output_type": "execute_result"
    }
   ],
   "source": [
    "types=dict(visa_df.dtypes)\n",
    "types"
   ]
  },
  {
   "cell_type": "code",
   "execution_count": 119,
   "id": "69f3ad16-eb78-424a-bf1b-85c659aa7aa5",
   "metadata": {},
   "outputs": [
    {
     "name": "stdout",
     "output_type": "stream",
     "text": [
      "['Hour' 'Year' 'Week' 'Month']\n",
      "[2157, 22962, 272, 89]\n",
      "  Wage unit  Wage count\n",
      "0      Hour        2157\n",
      "1      Year       22962\n",
      "2      Week         272\n",
      "3     Month          89\n"
     ]
    },
    {
     "data": {
      "image/png": "[encoded data removed]",
      "text/plain": [
       "<Figure size 640x480 with 1 Axes>"
      ]
     },
     "metadata": {},
     "output_type": "display_data"
    }
   ],
   "source": [
    "# Bar chart preparation for unit_of_wage:\n",
    "wage_unit_list=visa_df['unit_of_wage'].unique()\n",
    "wage_count_list=[]\n",
    "for i in visa_df['unit_of_wage'].unique():\n",
    "    con=visa_df['unit_of_wage']==i\n",
    "    count=len(visa_df[con])\n",
    "    wage_count_list.append(count)\n",
    "print(wage_unit_list)\n",
    "print(wage_count_list)\n",
    "data=zip(wage_unit_list, wage_count_list)\n",
    "cols=['Wage unit', 'Wage count']\n",
    "wage_unit_df=pd.DataFrame(data, columns=cols)\n",
    "print(wage_unit_df)\n",
    "\n",
    "plt.bar('Wage unit', 'Wage count',data=wage_unit_df)\n",
    "plt.title('Wage Bar Chart')\n",
    "plt.xlabel('Wage unit')\n",
    "plt.ylabel('Wage count')\n",
    "plt.savefig('wage_bar_chart.jpg')\n",
    "plt.show()\n"
   ]
  },
  {
   "cell_type": "code",
   "execution_count": null,
   "id": "b9cb42d1-b6da-4f9d-8255-8c400b331eca",
   "metadata": {},
   "outputs": [],
   "source": []
  }
 ],
 "metadata": {
  "kernelspec": {
   "display_name": "Python 3 (ipykernel)",
   "language": "python",
   "name": "python3"
  },
  "language_info": {
   "codemirror_mode": {
    "name": "ipython",
    "version": 3
   },
   "file_extension": ".py",
   "mimetype": "text/x-python",
   "name": "python",
   "nbconvert_exporter": "python",
   "pygments_lexer": "ipython3",
   "version": "3.11.7"
  }
 },
 "nbformat": 4,
 "nbformat_minor": 5
}
