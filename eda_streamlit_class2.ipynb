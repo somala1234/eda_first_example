{
 "cells": [
  {
   "cell_type": "code",
   "execution_count": null,
   "id": "389fc1f0-357b-4590-8464-3ba11c502ac2",
   "metadata": {},
   "outputs": [],
   "source": [
    "#Q1): Where is the file, What is the directory of the file?\n",
    "\n",
    "#Q2) : What is the directory terminal is showing?\n",
    "\n",
    "#Q3)  If both are not same, change the directory.\n",
    "cd <DIRECTORY_NAME>\n",
    "Run the python code using python session1.py\n",
    "\n",
    "----------------------\n",
    "Python UI using package : streamlit\n",
    "We have two terminal :\n",
    "\n",
    "streamlit command:\n",
    "python -m streamlit run app.py "
   ]
  }
 ],
 "metadata": {
  "kernelspec": {
   "display_name": "Python 3 (ipykernel)",
   "language": "python",
   "name": "python3"
  },
  "language_info": {
   "codemirror_mode": {
    "name": "ipython",
    "version": 3
   },
   "file_extension": ".py",
   "mimetype": "text/x-python",
   "name": "python",
   "nbconvert_exporter": "python",
   "pygments_lexer": "ipython3",
   "version": "3.11.7"
  }
 },
 "nbformat": 4,
 "nbformat_minor": 5
}
